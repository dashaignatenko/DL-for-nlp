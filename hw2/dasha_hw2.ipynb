{
  "cells": [
    {
      "cell_type": "markdown",
      "metadata": {
        "id": "zg4SNPVSp4II"
      },
      "source": [
        "Base on  [BobaZooba hw](https://github.com/BobaZooba/DeepNLP/blob/2020/Week%203/Homework%202.ipynb)"
      ]
    },
    {
      "cell_type": "code",
      "source": [
        "from google.colab import drive\n",
        "drive.mount('/content/drive')\n",
        "import sys\n",
        "sys.path.append('/content/drive/MyDrive/dl_hw2')"
      ],
      "metadata": {
        "colab": {
          "base_uri": "https://localhost:8080/"
        },
        "id": "01SuDFQA7Ple",
        "outputId": "68951667-5e52-42af-d1d0-4d6f05f90b07"
      },
      "execution_count": 1,
      "outputs": [
        {
          "output_type": "stream",
          "name": "stdout",
          "text": [
            "Mounted at /content/drive\n"
          ]
        }
      ]
    },
    {
      "cell_type": "code",
      "source": [],
      "metadata": {
        "id": "Gg-8Y4kzbma1"
      },
      "execution_count": 1,
      "outputs": []
    },
    {
      "cell_type": "code",
      "execution_count": 2,
      "metadata": {
        "id": "0_n88FxPp0HN"
      },
      "outputs": [],
      "source": [
        "import math\n",
        "import numpy as np\n",
        "\n",
        "from tqdm import tqdm\n",
        "\n",
        "import torch\n",
        "\n",
        "import zipfile\n",
        "\n",
        "import seaborn as sns\n",
        "\n",
        "from data import Downloader, Parser"
      ]
    },
    {
      "cell_type": "code",
      "source": [],
      "metadata": {
        "id": "AAvVdO-g64s5"
      },
      "execution_count": 2,
      "outputs": []
    },
    {
      "cell_type": "markdown",
      "metadata": {
        "id": "5bFT_aogp0HO"
      },
      "source": [
        "### Загружаем файл с эмбеддингами для английского языка\n",
        "Они нам понадобятся чуть позже.  \n",
        "Для других языков можете найти здесь: https://fasttext.cc/docs/en/crawl-vectors.html"
      ]
    },
    {
      "cell_type": "code",
      "execution_count": 3,
      "metadata": {
        "id": "ek14oFkpp0HP",
        "outputId": "ee2c4b7d-28aa-4c5e-def2-d405d3552cb7",
        "colab": {
          "base_uri": "https://localhost:8080/"
        }
      },
      "outputs": [
        {
          "output_type": "stream",
          "name": "stdout",
          "text": [
            "--2024-10-27 19:38:20--  https://dl.fbaipublicfiles.com/fasttext/vectors-english/wiki-news-300d-1M.vec.zip\n",
            "Resolving dl.fbaipublicfiles.com (dl.fbaipublicfiles.com)... 108.157.254.121, 108.157.254.124, 108.157.254.102, ...\n",
            "Connecting to dl.fbaipublicfiles.com (dl.fbaipublicfiles.com)|108.157.254.121|:443... connected.\n",
            "HTTP request sent, awaiting response... 200 OK\n",
            "Length: 681808098 (650M) [application/zip]\n",
            "Saving to: ‘wiki-news-300d-1M.vec.zip’\n",
            "\n",
            "wiki-news-300d-1M.v 100%[===================>] 650.22M   200MB/s    in 3.2s    \n",
            "\n",
            "2024-10-27 19:38:24 (200 MB/s) - ‘wiki-news-300d-1M.vec.zip’ saved [681808098/681808098]\n",
            "\n"
          ]
        }
      ],
      "source": [
        "# раскомментируйте и скачайте\n",
        "!wget https://dl.fbaipublicfiles.com/fasttext/vectors-english/wiki-news-300d-1M.vec.zip"
      ]
    },
    {
      "cell_type": "code",
      "execution_count": 4,
      "metadata": {
        "id": "2sCNtHiSp0HQ"
      },
      "outputs": [],
      "source": [
        "# путь к данным\n",
        "data_path = './data/'"
      ]
    },
    {
      "cell_type": "markdown",
      "metadata": {
        "id": "ia_C6wVNp0HQ"
      },
      "source": [
        "### Читалка данные\n",
        "Не стоит вдаваться в подробности, просто эта штука скачивает данные, затем парсит и делает из них три датасета:\n",
        "- тренировочный\n",
        "- валидационный\n",
        "- неразмеченный\n",
        "\n",
        "Неразмеченные данные необазятельны, но могут вам понадобиться, например, для языковой модели или улучшения эмбеддингов."
      ]
    },
    {
      "cell_type": "code",
      "execution_count": 5,
      "metadata": {
        "id": "meDnkjHGp0HQ"
      },
      "outputs": [],
      "source": [
        "downloader = Downloader(data_path=data_path)"
      ]
    },
    {
      "cell_type": "code",
      "execution_count": 6,
      "metadata": {
        "id": "KcZ7av6bp0HQ",
        "outputId": "cd8b2d95-f471-40a7-9435-627801669a51",
        "colab": {
          "base_uri": "https://localhost:8080/"
        }
      },
      "outputs": [
        {
          "output_type": "stream",
          "name": "stderr",
          "text": [
            "single: 100%|██████████| 21/21 [00:37<00:00,  1.79s/it]\n",
            "multiple: 100%|██████████| 17/17 [00:46<00:00,  2.72s/it]\n"
          ]
        }
      ],
      "source": [
        "downloader.run()"
      ]
    },
    {
      "cell_type": "code",
      "execution_count": 7,
      "metadata": {
        "id": "fis3sv-dp0HR"
      },
      "outputs": [],
      "source": [
        "parser = Parser(data_path=data_path)"
      ]
    },
    {
      "cell_type": "code",
      "execution_count": 8,
      "metadata": {
        "id": "KozrrLp2p0HR",
        "colab": {
          "base_uri": "https://localhost:8080/"
        },
        "outputId": "eba0468f-a6fc-4e93-eeea-b8b5459870e8"
      },
      "outputs": [
        {
          "output_type": "stream",
          "name": "stderr",
          "text": [
            "Reading: 100%|██████████| 38/38 [02:48<00:00,  4.45s/it]\n"
          ]
        }
      ],
      "source": [
        "unlabeled, train, valid = parser.run()"
      ]
    },
    {
      "cell_type": "markdown",
      "metadata": {
        "id": "Im3PZIj7p0HR"
      },
      "source": [
        "### Посмотрим на датасеты"
      ]
    },
    {
      "cell_type": "code",
      "execution_count": 9,
      "metadata": {
        "id": "pCMUqtrYp0HS",
        "colab": {
          "base_uri": "https://localhost:8080/",
          "height": 419
        },
        "outputId": "ad3f5637-7bd0-4f3d-d86b-2341ad66b2ea"
      },
      "outputs": [
        {
          "output_type": "execute_result",
          "data": {
            "text/plain": [
              "                                                 question  \\\n",
              "0       are there any other roofs? our little dog jump...   \n",
              "1                                  do they fit the revlon   \n",
              "2       i just bought this and i have no idea what tha...   \n",
              "3              does this come with the tummy time pillow?   \n",
              "4           where can i find replacement suction cups????   \n",
              "...                                                   ...   \n",
              "137275  will these fit well on a older modle giant rin...   \n",
              "137276  will the rear camera work or is it covered by ...   \n",
              "137277  why is the average cmf 4, but load is 24 cmf? ...   \n",
              "137278  it does not work. i tried to put in larger por...   \n",
              "137279  does this case also fit the colored ipod touch...   \n",
              "\n",
              "                                                 response  \n",
              "0       unfortunately, no this is the only roof there ...  \n",
              "1               i don't have a revlon and they didn't fit  \n",
              "2       it is for use on your touch screen, like inste...  \n",
              "3       yes, it does.  but it's not worth $70.  the fi...  \n",
              "4       hi reiner,you may want to click on this link f...  \n",
              "...                                                   ...  \n",
              "137275  yes, i would suspect the bars would fit so lon...  \n",
              "137276  yes the rear camera worked. it works well in m...  \n",
              "137277  i would say the average is more like 9 cfm for...  \n",
              "137278  this worked fine for me. make sure nothing is ...  \n",
              "137279  yes it does i have the blue and black case it ...  \n",
              "\n",
              "[137280 rows x 2 columns]"
            ],
            "text/html": [
              "\n",
              "  <div id=\"df-e7a9a3f0-4c8a-45ad-a0f0-b0b173d0d188\" class=\"colab-df-container\">\n",
              "    <div>\n",
              "<style scoped>\n",
              "    .dataframe tbody tr th:only-of-type {\n",
              "        vertical-align: middle;\n",
              "    }\n",
              "\n",
              "    .dataframe tbody tr th {\n",
              "        vertical-align: top;\n",
              "    }\n",
              "\n",
              "    .dataframe thead th {\n",
              "        text-align: right;\n",
              "    }\n",
              "</style>\n",
              "<table border=\"1\" class=\"dataframe\">\n",
              "  <thead>\n",
              "    <tr style=\"text-align: right;\">\n",
              "      <th></th>\n",
              "      <th>question</th>\n",
              "      <th>response</th>\n",
              "    </tr>\n",
              "  </thead>\n",
              "  <tbody>\n",
              "    <tr>\n",
              "      <th>0</th>\n",
              "      <td>are there any other roofs? our little dog jump...</td>\n",
              "      <td>unfortunately, no this is the only roof there ...</td>\n",
              "    </tr>\n",
              "    <tr>\n",
              "      <th>1</th>\n",
              "      <td>do they fit the revlon</td>\n",
              "      <td>i don't have a revlon and they didn't fit</td>\n",
              "    </tr>\n",
              "    <tr>\n",
              "      <th>2</th>\n",
              "      <td>i just bought this and i have no idea what tha...</td>\n",
              "      <td>it is for use on your touch screen, like inste...</td>\n",
              "    </tr>\n",
              "    <tr>\n",
              "      <th>3</th>\n",
              "      <td>does this come with the tummy time pillow?</td>\n",
              "      <td>yes, it does.  but it's not worth $70.  the fi...</td>\n",
              "    </tr>\n",
              "    <tr>\n",
              "      <th>4</th>\n",
              "      <td>where can i find replacement suction cups????</td>\n",
              "      <td>hi reiner,you may want to click on this link f...</td>\n",
              "    </tr>\n",
              "    <tr>\n",
              "      <th>...</th>\n",
              "      <td>...</td>\n",
              "      <td>...</td>\n",
              "    </tr>\n",
              "    <tr>\n",
              "      <th>137275</th>\n",
              "      <td>will these fit well on a older modle giant rin...</td>\n",
              "      <td>yes, i would suspect the bars would fit so lon...</td>\n",
              "    </tr>\n",
              "    <tr>\n",
              "      <th>137276</th>\n",
              "      <td>will the rear camera work or is it covered by ...</td>\n",
              "      <td>yes the rear camera worked. it works well in m...</td>\n",
              "    </tr>\n",
              "    <tr>\n",
              "      <th>137277</th>\n",
              "      <td>why is the average cmf 4, but load is 24 cmf? ...</td>\n",
              "      <td>i would say the average is more like 9 cfm for...</td>\n",
              "    </tr>\n",
              "    <tr>\n",
              "      <th>137278</th>\n",
              "      <td>it does not work. i tried to put in larger por...</td>\n",
              "      <td>this worked fine for me. make sure nothing is ...</td>\n",
              "    </tr>\n",
              "    <tr>\n",
              "      <th>137279</th>\n",
              "      <td>does this case also fit the colored ipod touch...</td>\n",
              "      <td>yes it does i have the blue and black case it ...</td>\n",
              "    </tr>\n",
              "  </tbody>\n",
              "</table>\n",
              "<p>137280 rows × 2 columns</p>\n",
              "</div>\n",
              "    <div class=\"colab-df-buttons\">\n",
              "\n",
              "  <div class=\"colab-df-container\">\n",
              "    <button class=\"colab-df-convert\" onclick=\"convertToInteractive('df-e7a9a3f0-4c8a-45ad-a0f0-b0b173d0d188')\"\n",
              "            title=\"Convert this dataframe to an interactive table.\"\n",
              "            style=\"display:none;\">\n",
              "\n",
              "  <svg xmlns=\"http://www.w3.org/2000/svg\" height=\"24px\" viewBox=\"0 -960 960 960\">\n",
              "    <path d=\"M120-120v-720h720v720H120Zm60-500h600v-160H180v160Zm220 220h160v-160H400v160Zm0 220h160v-160H400v160ZM180-400h160v-160H180v160Zm440 0h160v-160H620v160ZM180-180h160v-160H180v160Zm440 0h160v-160H620v160Z\"/>\n",
              "  </svg>\n",
              "    </button>\n",
              "\n",
              "  <style>\n",
              "    .colab-df-container {\n",
              "      display:flex;\n",
              "      gap: 12px;\n",
              "    }\n",
              "\n",
              "    .colab-df-convert {\n",
              "      background-color: #E8F0FE;\n",
              "      border: none;\n",
              "      border-radius: 50%;\n",
              "      cursor: pointer;\n",
              "      display: none;\n",
              "      fill: #1967D2;\n",
              "      height: 32px;\n",
              "      padding: 0 0 0 0;\n",
              "      width: 32px;\n",
              "    }\n",
              "\n",
              "    .colab-df-convert:hover {\n",
              "      background-color: #E2EBFA;\n",
              "      box-shadow: 0px 1px 2px rgba(60, 64, 67, 0.3), 0px 1px 3px 1px rgba(60, 64, 67, 0.15);\n",
              "      fill: #174EA6;\n",
              "    }\n",
              "\n",
              "    .colab-df-buttons div {\n",
              "      margin-bottom: 4px;\n",
              "    }\n",
              "\n",
              "    [theme=dark] .colab-df-convert {\n",
              "      background-color: #3B4455;\n",
              "      fill: #D2E3FC;\n",
              "    }\n",
              "\n",
              "    [theme=dark] .colab-df-convert:hover {\n",
              "      background-color: #434B5C;\n",
              "      box-shadow: 0px 1px 3px 1px rgba(0, 0, 0, 0.15);\n",
              "      filter: drop-shadow(0px 1px 2px rgba(0, 0, 0, 0.3));\n",
              "      fill: #FFFFFF;\n",
              "    }\n",
              "  </style>\n",
              "\n",
              "    <script>\n",
              "      const buttonEl =\n",
              "        document.querySelector('#df-e7a9a3f0-4c8a-45ad-a0f0-b0b173d0d188 button.colab-df-convert');\n",
              "      buttonEl.style.display =\n",
              "        google.colab.kernel.accessAllowed ? 'block' : 'none';\n",
              "\n",
              "      async function convertToInteractive(key) {\n",
              "        const element = document.querySelector('#df-e7a9a3f0-4c8a-45ad-a0f0-b0b173d0d188');\n",
              "        const dataTable =\n",
              "          await google.colab.kernel.invokeFunction('convertToInteractive',\n",
              "                                                    [key], {});\n",
              "        if (!dataTable) return;\n",
              "\n",
              "        const docLinkHtml = 'Like what you see? Visit the ' +\n",
              "          '<a target=\"_blank\" href=https://colab.research.google.com/notebooks/data_table.ipynb>data table notebook</a>'\n",
              "          + ' to learn more about interactive tables.';\n",
              "        element.innerHTML = '';\n",
              "        dataTable['output_type'] = 'display_data';\n",
              "        await google.colab.output.renderOutput(dataTable, element);\n",
              "        const docLink = document.createElement('div');\n",
              "        docLink.innerHTML = docLinkHtml;\n",
              "        element.appendChild(docLink);\n",
              "      }\n",
              "    </script>\n",
              "  </div>\n",
              "\n",
              "\n",
              "<div id=\"df-4cd5a9ea-0561-46f9-ada7-d7637cde4119\">\n",
              "  <button class=\"colab-df-quickchart\" onclick=\"quickchart('df-4cd5a9ea-0561-46f9-ada7-d7637cde4119')\"\n",
              "            title=\"Suggest charts\"\n",
              "            style=\"display:none;\">\n",
              "\n",
              "<svg xmlns=\"http://www.w3.org/2000/svg\" height=\"24px\"viewBox=\"0 0 24 24\"\n",
              "     width=\"24px\">\n",
              "    <g>\n",
              "        <path d=\"M19 3H5c-1.1 0-2 .9-2 2v14c0 1.1.9 2 2 2h14c1.1 0 2-.9 2-2V5c0-1.1-.9-2-2-2zM9 17H7v-7h2v7zm4 0h-2V7h2v10zm4 0h-2v-4h2v4z\"/>\n",
              "    </g>\n",
              "</svg>\n",
              "  </button>\n",
              "\n",
              "<style>\n",
              "  .colab-df-quickchart {\n",
              "      --bg-color: #E8F0FE;\n",
              "      --fill-color: #1967D2;\n",
              "      --hover-bg-color: #E2EBFA;\n",
              "      --hover-fill-color: #174EA6;\n",
              "      --disabled-fill-color: #AAA;\n",
              "      --disabled-bg-color: #DDD;\n",
              "  }\n",
              "\n",
              "  [theme=dark] .colab-df-quickchart {\n",
              "      --bg-color: #3B4455;\n",
              "      --fill-color: #D2E3FC;\n",
              "      --hover-bg-color: #434B5C;\n",
              "      --hover-fill-color: #FFFFFF;\n",
              "      --disabled-bg-color: #3B4455;\n",
              "      --disabled-fill-color: #666;\n",
              "  }\n",
              "\n",
              "  .colab-df-quickchart {\n",
              "    background-color: var(--bg-color);\n",
              "    border: none;\n",
              "    border-radius: 50%;\n",
              "    cursor: pointer;\n",
              "    display: none;\n",
              "    fill: var(--fill-color);\n",
              "    height: 32px;\n",
              "    padding: 0;\n",
              "    width: 32px;\n",
              "  }\n",
              "\n",
              "  .colab-df-quickchart:hover {\n",
              "    background-color: var(--hover-bg-color);\n",
              "    box-shadow: 0 1px 2px rgba(60, 64, 67, 0.3), 0 1px 3px 1px rgba(60, 64, 67, 0.15);\n",
              "    fill: var(--button-hover-fill-color);\n",
              "  }\n",
              "\n",
              "  .colab-df-quickchart-complete:disabled,\n",
              "  .colab-df-quickchart-complete:disabled:hover {\n",
              "    background-color: var(--disabled-bg-color);\n",
              "    fill: var(--disabled-fill-color);\n",
              "    box-shadow: none;\n",
              "  }\n",
              "\n",
              "  .colab-df-spinner {\n",
              "    border: 2px solid var(--fill-color);\n",
              "    border-color: transparent;\n",
              "    border-bottom-color: var(--fill-color);\n",
              "    animation:\n",
              "      spin 1s steps(1) infinite;\n",
              "  }\n",
              "\n",
              "  @keyframes spin {\n",
              "    0% {\n",
              "      border-color: transparent;\n",
              "      border-bottom-color: var(--fill-color);\n",
              "      border-left-color: var(--fill-color);\n",
              "    }\n",
              "    20% {\n",
              "      border-color: transparent;\n",
              "      border-left-color: var(--fill-color);\n",
              "      border-top-color: var(--fill-color);\n",
              "    }\n",
              "    30% {\n",
              "      border-color: transparent;\n",
              "      border-left-color: var(--fill-color);\n",
              "      border-top-color: var(--fill-color);\n",
              "      border-right-color: var(--fill-color);\n",
              "    }\n",
              "    40% {\n",
              "      border-color: transparent;\n",
              "      border-right-color: var(--fill-color);\n",
              "      border-top-color: var(--fill-color);\n",
              "    }\n",
              "    60% {\n",
              "      border-color: transparent;\n",
              "      border-right-color: var(--fill-color);\n",
              "    }\n",
              "    80% {\n",
              "      border-color: transparent;\n",
              "      border-right-color: var(--fill-color);\n",
              "      border-bottom-color: var(--fill-color);\n",
              "    }\n",
              "    90% {\n",
              "      border-color: transparent;\n",
              "      border-bottom-color: var(--fill-color);\n",
              "    }\n",
              "  }\n",
              "</style>\n",
              "\n",
              "  <script>\n",
              "    async function quickchart(key) {\n",
              "      const quickchartButtonEl =\n",
              "        document.querySelector('#' + key + ' button');\n",
              "      quickchartButtonEl.disabled = true;  // To prevent multiple clicks.\n",
              "      quickchartButtonEl.classList.add('colab-df-spinner');\n",
              "      try {\n",
              "        const charts = await google.colab.kernel.invokeFunction(\n",
              "            'suggestCharts', [key], {});\n",
              "      } catch (error) {\n",
              "        console.error('Error during call to suggestCharts:', error);\n",
              "      }\n",
              "      quickchartButtonEl.classList.remove('colab-df-spinner');\n",
              "      quickchartButtonEl.classList.add('colab-df-quickchart-complete');\n",
              "    }\n",
              "    (() => {\n",
              "      let quickchartButtonEl =\n",
              "        document.querySelector('#df-4cd5a9ea-0561-46f9-ada7-d7637cde4119 button');\n",
              "      quickchartButtonEl.style.display =\n",
              "        google.colab.kernel.accessAllowed ? 'block' : 'none';\n",
              "    })();\n",
              "  </script>\n",
              "</div>\n",
              "    </div>\n",
              "  </div>\n"
            ],
            "application/vnd.google.colaboratory.intrinsic+json": {
              "type": "dataframe",
              "variable_name": "unlabeled"
            }
          },
          "metadata": {},
          "execution_count": 9
        }
      ],
      "source": [
        "unlabeled"
      ]
    },
    {
      "cell_type": "code",
      "execution_count": 10,
      "metadata": {
        "id": "Ga-y-PQcp0HS",
        "colab": {
          "base_uri": "https://localhost:8080/",
          "height": 419
        },
        "outputId": "0b697a40-42f1-4d47-bba7-0fcf02d2c73a"
      },
      "outputs": [
        {
          "output_type": "execute_result",
          "data": {
            "text/plain": [
              "                                                 question  \\\n",
              "0       are the filters reuseable? i'm not sure i want...   \n",
              "1       will this charge both galaxy s4 and iphone 3gs...   \n",
              "2       we treat \"wet\" (cheese or meat).  is the insid...   \n",
              "3       received my base/top coat today.  based on thw...   \n",
              "4       i'm just getting into nooks and crannies. i wa...   \n",
              "...                                                   ...   \n",
              "249995  does this case interfere with the touch input ...   \n",
              "249996                          can the hooks by reversed   \n",
              "249997  is this the type that will fit the graco duogl...   \n",
              "249998  got it to work a couple of times after fiddlin...   \n",
              "249999                                   time of waranty?   \n",
              "\n",
              "                                                 response  \\\n",
              "0       i've been rinsing mine out but i really think ...   \n",
              "1       yes, it will not only charge both but also cha...   \n",
              "2       yes it can be cleaned pretty easily...it's lik...   \n",
              "3       i honestly have never paid attention to the sk...   \n",
              "4                its a great hands free lamp.good quality   \n",
              "...                                                   ...   \n",
              "249995        it does not for us it works perfectly fine.   \n",
              "249996                        no they cannot be reversed.   \n",
              "249997  yes. classic connect fits with other classic c...   \n",
              "249998  not sure why you are fiddling with the battery...   \n",
              "249999                               no motorola warranty   \n",
              "\n",
              "                           category  \n",
              "0                      pet supplies  \n",
              "1       cell phones and accessories  \n",
              "2                      pet supplies  \n",
              "3                            beauty  \n",
              "4               sports and outdoors  \n",
              "...                             ...  \n",
              "249995  cell phones and accessories  \n",
              "249996          sports and outdoors  \n",
              "249997                         baby  \n",
              "249998                   automotive  \n",
              "249999  cell phones and accessories  \n",
              "\n",
              "[250000 rows x 3 columns]"
            ],
            "text/html": [
              "\n",
              "  <div id=\"df-2dabb28f-99ba-48de-86c3-d541f707859a\" class=\"colab-df-container\">\n",
              "    <div>\n",
              "<style scoped>\n",
              "    .dataframe tbody tr th:only-of-type {\n",
              "        vertical-align: middle;\n",
              "    }\n",
              "\n",
              "    .dataframe tbody tr th {\n",
              "        vertical-align: top;\n",
              "    }\n",
              "\n",
              "    .dataframe thead th {\n",
              "        text-align: right;\n",
              "    }\n",
              "</style>\n",
              "<table border=\"1\" class=\"dataframe\">\n",
              "  <thead>\n",
              "    <tr style=\"text-align: right;\">\n",
              "      <th></th>\n",
              "      <th>question</th>\n",
              "      <th>response</th>\n",
              "      <th>category</th>\n",
              "    </tr>\n",
              "  </thead>\n",
              "  <tbody>\n",
              "    <tr>\n",
              "      <th>0</th>\n",
              "      <td>are the filters reuseable? i'm not sure i want...</td>\n",
              "      <td>i've been rinsing mine out but i really think ...</td>\n",
              "      <td>pet supplies</td>\n",
              "    </tr>\n",
              "    <tr>\n",
              "      <th>1</th>\n",
              "      <td>will this charge both galaxy s4 and iphone 3gs...</td>\n",
              "      <td>yes, it will not only charge both but also cha...</td>\n",
              "      <td>cell phones and accessories</td>\n",
              "    </tr>\n",
              "    <tr>\n",
              "      <th>2</th>\n",
              "      <td>we treat \"wet\" (cheese or meat).  is the insid...</td>\n",
              "      <td>yes it can be cleaned pretty easily...it's lik...</td>\n",
              "      <td>pet supplies</td>\n",
              "    </tr>\n",
              "    <tr>\n",
              "      <th>3</th>\n",
              "      <td>received my base/top coat today.  based on thw...</td>\n",
              "      <td>i honestly have never paid attention to the sk...</td>\n",
              "      <td>beauty</td>\n",
              "    </tr>\n",
              "    <tr>\n",
              "      <th>4</th>\n",
              "      <td>i'm just getting into nooks and crannies. i wa...</td>\n",
              "      <td>its a great hands free lamp.good quality</td>\n",
              "      <td>sports and outdoors</td>\n",
              "    </tr>\n",
              "    <tr>\n",
              "      <th>...</th>\n",
              "      <td>...</td>\n",
              "      <td>...</td>\n",
              "      <td>...</td>\n",
              "    </tr>\n",
              "    <tr>\n",
              "      <th>249995</th>\n",
              "      <td>does this case interfere with the touch input ...</td>\n",
              "      <td>it does not for us it works perfectly fine.</td>\n",
              "      <td>cell phones and accessories</td>\n",
              "    </tr>\n",
              "    <tr>\n",
              "      <th>249996</th>\n",
              "      <td>can the hooks by reversed</td>\n",
              "      <td>no they cannot be reversed.</td>\n",
              "      <td>sports and outdoors</td>\n",
              "    </tr>\n",
              "    <tr>\n",
              "      <th>249997</th>\n",
              "      <td>is this the type that will fit the graco duogl...</td>\n",
              "      <td>yes. classic connect fits with other classic c...</td>\n",
              "      <td>baby</td>\n",
              "    </tr>\n",
              "    <tr>\n",
              "      <th>249998</th>\n",
              "      <td>got it to work a couple of times after fiddlin...</td>\n",
              "      <td>not sure why you are fiddling with the battery...</td>\n",
              "      <td>automotive</td>\n",
              "    </tr>\n",
              "    <tr>\n",
              "      <th>249999</th>\n",
              "      <td>time of waranty?</td>\n",
              "      <td>no motorola warranty</td>\n",
              "      <td>cell phones and accessories</td>\n",
              "    </tr>\n",
              "  </tbody>\n",
              "</table>\n",
              "<p>250000 rows × 3 columns</p>\n",
              "</div>\n",
              "    <div class=\"colab-df-buttons\">\n",
              "\n",
              "  <div class=\"colab-df-container\">\n",
              "    <button class=\"colab-df-convert\" onclick=\"convertToInteractive('df-2dabb28f-99ba-48de-86c3-d541f707859a')\"\n",
              "            title=\"Convert this dataframe to an interactive table.\"\n",
              "            style=\"display:none;\">\n",
              "\n",
              "  <svg xmlns=\"http://www.w3.org/2000/svg\" height=\"24px\" viewBox=\"0 -960 960 960\">\n",
              "    <path d=\"M120-120v-720h720v720H120Zm60-500h600v-160H180v160Zm220 220h160v-160H400v160Zm0 220h160v-160H400v160ZM180-400h160v-160H180v160Zm440 0h160v-160H620v160ZM180-180h160v-160H180v160Zm440 0h160v-160H620v160Z\"/>\n",
              "  </svg>\n",
              "    </button>\n",
              "\n",
              "  <style>\n",
              "    .colab-df-container {\n",
              "      display:flex;\n",
              "      gap: 12px;\n",
              "    }\n",
              "\n",
              "    .colab-df-convert {\n",
              "      background-color: #E8F0FE;\n",
              "      border: none;\n",
              "      border-radius: 50%;\n",
              "      cursor: pointer;\n",
              "      display: none;\n",
              "      fill: #1967D2;\n",
              "      height: 32px;\n",
              "      padding: 0 0 0 0;\n",
              "      width: 32px;\n",
              "    }\n",
              "\n",
              "    .colab-df-convert:hover {\n",
              "      background-color: #E2EBFA;\n",
              "      box-shadow: 0px 1px 2px rgba(60, 64, 67, 0.3), 0px 1px 3px 1px rgba(60, 64, 67, 0.15);\n",
              "      fill: #174EA6;\n",
              "    }\n",
              "\n",
              "    .colab-df-buttons div {\n",
              "      margin-bottom: 4px;\n",
              "    }\n",
              "\n",
              "    [theme=dark] .colab-df-convert {\n",
              "      background-color: #3B4455;\n",
              "      fill: #D2E3FC;\n",
              "    }\n",
              "\n",
              "    [theme=dark] .colab-df-convert:hover {\n",
              "      background-color: #434B5C;\n",
              "      box-shadow: 0px 1px 3px 1px rgba(0, 0, 0, 0.15);\n",
              "      filter: drop-shadow(0px 1px 2px rgba(0, 0, 0, 0.3));\n",
              "      fill: #FFFFFF;\n",
              "    }\n",
              "  </style>\n",
              "\n",
              "    <script>\n",
              "      const buttonEl =\n",
              "        document.querySelector('#df-2dabb28f-99ba-48de-86c3-d541f707859a button.colab-df-convert');\n",
              "      buttonEl.style.display =\n",
              "        google.colab.kernel.accessAllowed ? 'block' : 'none';\n",
              "\n",
              "      async function convertToInteractive(key) {\n",
              "        const element = document.querySelector('#df-2dabb28f-99ba-48de-86c3-d541f707859a');\n",
              "        const dataTable =\n",
              "          await google.colab.kernel.invokeFunction('convertToInteractive',\n",
              "                                                    [key], {});\n",
              "        if (!dataTable) return;\n",
              "\n",
              "        const docLinkHtml = 'Like what you see? Visit the ' +\n",
              "          '<a target=\"_blank\" href=https://colab.research.google.com/notebooks/data_table.ipynb>data table notebook</a>'\n",
              "          + ' to learn more about interactive tables.';\n",
              "        element.innerHTML = '';\n",
              "        dataTable['output_type'] = 'display_data';\n",
              "        await google.colab.output.renderOutput(dataTable, element);\n",
              "        const docLink = document.createElement('div');\n",
              "        docLink.innerHTML = docLinkHtml;\n",
              "        element.appendChild(docLink);\n",
              "      }\n",
              "    </script>\n",
              "  </div>\n",
              "\n",
              "\n",
              "<div id=\"df-ad338fd8-cec6-4950-a690-551d8780f5f8\">\n",
              "  <button class=\"colab-df-quickchart\" onclick=\"quickchart('df-ad338fd8-cec6-4950-a690-551d8780f5f8')\"\n",
              "            title=\"Suggest charts\"\n",
              "            style=\"display:none;\">\n",
              "\n",
              "<svg xmlns=\"http://www.w3.org/2000/svg\" height=\"24px\"viewBox=\"0 0 24 24\"\n",
              "     width=\"24px\">\n",
              "    <g>\n",
              "        <path d=\"M19 3H5c-1.1 0-2 .9-2 2v14c0 1.1.9 2 2 2h14c1.1 0 2-.9 2-2V5c0-1.1-.9-2-2-2zM9 17H7v-7h2v7zm4 0h-2V7h2v10zm4 0h-2v-4h2v4z\"/>\n",
              "    </g>\n",
              "</svg>\n",
              "  </button>\n",
              "\n",
              "<style>\n",
              "  .colab-df-quickchart {\n",
              "      --bg-color: #E8F0FE;\n",
              "      --fill-color: #1967D2;\n",
              "      --hover-bg-color: #E2EBFA;\n",
              "      --hover-fill-color: #174EA6;\n",
              "      --disabled-fill-color: #AAA;\n",
              "      --disabled-bg-color: #DDD;\n",
              "  }\n",
              "\n",
              "  [theme=dark] .colab-df-quickchart {\n",
              "      --bg-color: #3B4455;\n",
              "      --fill-color: #D2E3FC;\n",
              "      --hover-bg-color: #434B5C;\n",
              "      --hover-fill-color: #FFFFFF;\n",
              "      --disabled-bg-color: #3B4455;\n",
              "      --disabled-fill-color: #666;\n",
              "  }\n",
              "\n",
              "  .colab-df-quickchart {\n",
              "    background-color: var(--bg-color);\n",
              "    border: none;\n",
              "    border-radius: 50%;\n",
              "    cursor: pointer;\n",
              "    display: none;\n",
              "    fill: var(--fill-color);\n",
              "    height: 32px;\n",
              "    padding: 0;\n",
              "    width: 32px;\n",
              "  }\n",
              "\n",
              "  .colab-df-quickchart:hover {\n",
              "    background-color: var(--hover-bg-color);\n",
              "    box-shadow: 0 1px 2px rgba(60, 64, 67, 0.3), 0 1px 3px 1px rgba(60, 64, 67, 0.15);\n",
              "    fill: var(--button-hover-fill-color);\n",
              "  }\n",
              "\n",
              "  .colab-df-quickchart-complete:disabled,\n",
              "  .colab-df-quickchart-complete:disabled:hover {\n",
              "    background-color: var(--disabled-bg-color);\n",
              "    fill: var(--disabled-fill-color);\n",
              "    box-shadow: none;\n",
              "  }\n",
              "\n",
              "  .colab-df-spinner {\n",
              "    border: 2px solid var(--fill-color);\n",
              "    border-color: transparent;\n",
              "    border-bottom-color: var(--fill-color);\n",
              "    animation:\n",
              "      spin 1s steps(1) infinite;\n",
              "  }\n",
              "\n",
              "  @keyframes spin {\n",
              "    0% {\n",
              "      border-color: transparent;\n",
              "      border-bottom-color: var(--fill-color);\n",
              "      border-left-color: var(--fill-color);\n",
              "    }\n",
              "    20% {\n",
              "      border-color: transparent;\n",
              "      border-left-color: var(--fill-color);\n",
              "      border-top-color: var(--fill-color);\n",
              "    }\n",
              "    30% {\n",
              "      border-color: transparent;\n",
              "      border-left-color: var(--fill-color);\n",
              "      border-top-color: var(--fill-color);\n",
              "      border-right-color: var(--fill-color);\n",
              "    }\n",
              "    40% {\n",
              "      border-color: transparent;\n",
              "      border-right-color: var(--fill-color);\n",
              "      border-top-color: var(--fill-color);\n",
              "    }\n",
              "    60% {\n",
              "      border-color: transparent;\n",
              "      border-right-color: var(--fill-color);\n",
              "    }\n",
              "    80% {\n",
              "      border-color: transparent;\n",
              "      border-right-color: var(--fill-color);\n",
              "      border-bottom-color: var(--fill-color);\n",
              "    }\n",
              "    90% {\n",
              "      border-color: transparent;\n",
              "      border-bottom-color: var(--fill-color);\n",
              "    }\n",
              "  }\n",
              "</style>\n",
              "\n",
              "  <script>\n",
              "    async function quickchart(key) {\n",
              "      const quickchartButtonEl =\n",
              "        document.querySelector('#' + key + ' button');\n",
              "      quickchartButtonEl.disabled = true;  // To prevent multiple clicks.\n",
              "      quickchartButtonEl.classList.add('colab-df-spinner');\n",
              "      try {\n",
              "        const charts = await google.colab.kernel.invokeFunction(\n",
              "            'suggestCharts', [key], {});\n",
              "      } catch (error) {\n",
              "        console.error('Error during call to suggestCharts:', error);\n",
              "      }\n",
              "      quickchartButtonEl.classList.remove('colab-df-spinner');\n",
              "      quickchartButtonEl.classList.add('colab-df-quickchart-complete');\n",
              "    }\n",
              "    (() => {\n",
              "      let quickchartButtonEl =\n",
              "        document.querySelector('#df-ad338fd8-cec6-4950-a690-551d8780f5f8 button');\n",
              "      quickchartButtonEl.style.display =\n",
              "        google.colab.kernel.accessAllowed ? 'block' : 'none';\n",
              "    })();\n",
              "  </script>\n",
              "</div>\n",
              "    </div>\n",
              "  </div>\n"
            ],
            "application/vnd.google.colaboratory.intrinsic+json": {
              "type": "dataframe",
              "variable_name": "train"
            }
          },
          "metadata": {},
          "execution_count": 10
        }
      ],
      "source": [
        "train"
      ]
    },
    {
      "cell_type": "code",
      "execution_count": 11,
      "metadata": {
        "id": "MXOhZ3EEp0HS",
        "colab": {
          "base_uri": "https://localhost:8080/",
          "height": 419
        },
        "outputId": "9e63365a-1204-4c75-d4fc-4f644d66670d"
      },
      "outputs": [
        {
          "output_type": "execute_result",
          "data": {
            "text/plain": [
              "                                                question  \\\n",
              "0      lcd screen i would like to know if it works fo...   \n",
              "1      i have a 4-1/2 inch lug pattern &amp; a 3\" cen...   \n",
              "2                      do these phone have long distance   \n",
              "3                      does it come with a 12mm adapter?   \n",
              "4                        are these beans whole or split?   \n",
              "...                                                  ...   \n",
              "49995           whats the widest tire this bike can use?   \n",
              "49996                  has it warranty? has it warranty?   \n",
              "49997  had a tough time getting the original battery ...   \n",
              "49998  do the bars move to the music? or do they just...   \n",
              "49999  how much fluid does the funnel hold comfortabl...   \n",
              "\n",
              "                                                response  \\\n",
              "0            hi, yes it works for t-mobile phone thanks.   \n",
              "1                      great buy. i would give them a 10   \n",
              "2      the service depends on the sim card you put in...   \n",
              "3      it does include a: m12x1.75 to 1/8-27 npt fema...   \n",
              "4                                       ours were whole.   \n",
              "...                                                  ...   \n",
              "49995  no sure. i have not install anything besides w...   \n",
              "49996  i'm interested in buying this phone as a gift ...   \n",
              "49997  my battery was slidining in nd out freely. loo...   \n",
              "49998  yes they move to the music, but not like a sce...   \n",
              "49999  jeff: there are no markings on the funnel. i b...   \n",
              "\n",
              "                          category  \n",
              "0      cell phones and accessories  \n",
              "1                       automotive  \n",
              "2      cell phones and accessories  \n",
              "3                       automotive  \n",
              "4         grocery and gourmet food  \n",
              "...                            ...  \n",
              "49995          sports and outdoors  \n",
              "49996  cell phones and accessories  \n",
              "49997                   automotive  \n",
              "49998  cell phones and accessories  \n",
              "49999                   automotive  \n",
              "\n",
              "[50000 rows x 3 columns]"
            ],
            "text/html": [
              "\n",
              "  <div id=\"df-690c6473-7206-41fa-8835-2b6b73b7d515\" class=\"colab-df-container\">\n",
              "    <div>\n",
              "<style scoped>\n",
              "    .dataframe tbody tr th:only-of-type {\n",
              "        vertical-align: middle;\n",
              "    }\n",
              "\n",
              "    .dataframe tbody tr th {\n",
              "        vertical-align: top;\n",
              "    }\n",
              "\n",
              "    .dataframe thead th {\n",
              "        text-align: right;\n",
              "    }\n",
              "</style>\n",
              "<table border=\"1\" class=\"dataframe\">\n",
              "  <thead>\n",
              "    <tr style=\"text-align: right;\">\n",
              "      <th></th>\n",
              "      <th>question</th>\n",
              "      <th>response</th>\n",
              "      <th>category</th>\n",
              "    </tr>\n",
              "  </thead>\n",
              "  <tbody>\n",
              "    <tr>\n",
              "      <th>0</th>\n",
              "      <td>lcd screen i would like to know if it works fo...</td>\n",
              "      <td>hi, yes it works for t-mobile phone thanks.</td>\n",
              "      <td>cell phones and accessories</td>\n",
              "    </tr>\n",
              "    <tr>\n",
              "      <th>1</th>\n",
              "      <td>i have a 4-1/2 inch lug pattern &amp;amp; a 3\" cen...</td>\n",
              "      <td>great buy. i would give them a 10</td>\n",
              "      <td>automotive</td>\n",
              "    </tr>\n",
              "    <tr>\n",
              "      <th>2</th>\n",
              "      <td>do these phone have long distance</td>\n",
              "      <td>the service depends on the sim card you put in...</td>\n",
              "      <td>cell phones and accessories</td>\n",
              "    </tr>\n",
              "    <tr>\n",
              "      <th>3</th>\n",
              "      <td>does it come with a 12mm adapter?</td>\n",
              "      <td>it does include a: m12x1.75 to 1/8-27 npt fema...</td>\n",
              "      <td>automotive</td>\n",
              "    </tr>\n",
              "    <tr>\n",
              "      <th>4</th>\n",
              "      <td>are these beans whole or split?</td>\n",
              "      <td>ours were whole.</td>\n",
              "      <td>grocery and gourmet food</td>\n",
              "    </tr>\n",
              "    <tr>\n",
              "      <th>...</th>\n",
              "      <td>...</td>\n",
              "      <td>...</td>\n",
              "      <td>...</td>\n",
              "    </tr>\n",
              "    <tr>\n",
              "      <th>49995</th>\n",
              "      <td>whats the widest tire this bike can use?</td>\n",
              "      <td>no sure. i have not install anything besides w...</td>\n",
              "      <td>sports and outdoors</td>\n",
              "    </tr>\n",
              "    <tr>\n",
              "      <th>49996</th>\n",
              "      <td>has it warranty? has it warranty?</td>\n",
              "      <td>i'm interested in buying this phone as a gift ...</td>\n",
              "      <td>cell phones and accessories</td>\n",
              "    </tr>\n",
              "    <tr>\n",
              "      <th>49997</th>\n",
              "      <td>had a tough time getting the original battery ...</td>\n",
              "      <td>my battery was slidining in nd out freely. loo...</td>\n",
              "      <td>automotive</td>\n",
              "    </tr>\n",
              "    <tr>\n",
              "      <th>49998</th>\n",
              "      <td>do the bars move to the music? or do they just...</td>\n",
              "      <td>yes they move to the music, but not like a sce...</td>\n",
              "      <td>cell phones and accessories</td>\n",
              "    </tr>\n",
              "    <tr>\n",
              "      <th>49999</th>\n",
              "      <td>how much fluid does the funnel hold comfortabl...</td>\n",
              "      <td>jeff: there are no markings on the funnel. i b...</td>\n",
              "      <td>automotive</td>\n",
              "    </tr>\n",
              "  </tbody>\n",
              "</table>\n",
              "<p>50000 rows × 3 columns</p>\n",
              "</div>\n",
              "    <div class=\"colab-df-buttons\">\n",
              "\n",
              "  <div class=\"colab-df-container\">\n",
              "    <button class=\"colab-df-convert\" onclick=\"convertToInteractive('df-690c6473-7206-41fa-8835-2b6b73b7d515')\"\n",
              "            title=\"Convert this dataframe to an interactive table.\"\n",
              "            style=\"display:none;\">\n",
              "\n",
              "  <svg xmlns=\"http://www.w3.org/2000/svg\" height=\"24px\" viewBox=\"0 -960 960 960\">\n",
              "    <path d=\"M120-120v-720h720v720H120Zm60-500h600v-160H180v160Zm220 220h160v-160H400v160Zm0 220h160v-160H400v160ZM180-400h160v-160H180v160Zm440 0h160v-160H620v160ZM180-180h160v-160H180v160Zm440 0h160v-160H620v160Z\"/>\n",
              "  </svg>\n",
              "    </button>\n",
              "\n",
              "  <style>\n",
              "    .colab-df-container {\n",
              "      display:flex;\n",
              "      gap: 12px;\n",
              "    }\n",
              "\n",
              "    .colab-df-convert {\n",
              "      background-color: #E8F0FE;\n",
              "      border: none;\n",
              "      border-radius: 50%;\n",
              "      cursor: pointer;\n",
              "      display: none;\n",
              "      fill: #1967D2;\n",
              "      height: 32px;\n",
              "      padding: 0 0 0 0;\n",
              "      width: 32px;\n",
              "    }\n",
              "\n",
              "    .colab-df-convert:hover {\n",
              "      background-color: #E2EBFA;\n",
              "      box-shadow: 0px 1px 2px rgba(60, 64, 67, 0.3), 0px 1px 3px 1px rgba(60, 64, 67, 0.15);\n",
              "      fill: #174EA6;\n",
              "    }\n",
              "\n",
              "    .colab-df-buttons div {\n",
              "      margin-bottom: 4px;\n",
              "    }\n",
              "\n",
              "    [theme=dark] .colab-df-convert {\n",
              "      background-color: #3B4455;\n",
              "      fill: #D2E3FC;\n",
              "    }\n",
              "\n",
              "    [theme=dark] .colab-df-convert:hover {\n",
              "      background-color: #434B5C;\n",
              "      box-shadow: 0px 1px 3px 1px rgba(0, 0, 0, 0.15);\n",
              "      filter: drop-shadow(0px 1px 2px rgba(0, 0, 0, 0.3));\n",
              "      fill: #FFFFFF;\n",
              "    }\n",
              "  </style>\n",
              "\n",
              "    <script>\n",
              "      const buttonEl =\n",
              "        document.querySelector('#df-690c6473-7206-41fa-8835-2b6b73b7d515 button.colab-df-convert');\n",
              "      buttonEl.style.display =\n",
              "        google.colab.kernel.accessAllowed ? 'block' : 'none';\n",
              "\n",
              "      async function convertToInteractive(key) {\n",
              "        const element = document.querySelector('#df-690c6473-7206-41fa-8835-2b6b73b7d515');\n",
              "        const dataTable =\n",
              "          await google.colab.kernel.invokeFunction('convertToInteractive',\n",
              "                                                    [key], {});\n",
              "        if (!dataTable) return;\n",
              "\n",
              "        const docLinkHtml = 'Like what you see? Visit the ' +\n",
              "          '<a target=\"_blank\" href=https://colab.research.google.com/notebooks/data_table.ipynb>data table notebook</a>'\n",
              "          + ' to learn more about interactive tables.';\n",
              "        element.innerHTML = '';\n",
              "        dataTable['output_type'] = 'display_data';\n",
              "        await google.colab.output.renderOutput(dataTable, element);\n",
              "        const docLink = document.createElement('div');\n",
              "        docLink.innerHTML = docLinkHtml;\n",
              "        element.appendChild(docLink);\n",
              "      }\n",
              "    </script>\n",
              "  </div>\n",
              "\n",
              "\n",
              "<div id=\"df-4e61b065-312e-479a-9e9e-59cf2f311a49\">\n",
              "  <button class=\"colab-df-quickchart\" onclick=\"quickchart('df-4e61b065-312e-479a-9e9e-59cf2f311a49')\"\n",
              "            title=\"Suggest charts\"\n",
              "            style=\"display:none;\">\n",
              "\n",
              "<svg xmlns=\"http://www.w3.org/2000/svg\" height=\"24px\"viewBox=\"0 0 24 24\"\n",
              "     width=\"24px\">\n",
              "    <g>\n",
              "        <path d=\"M19 3H5c-1.1 0-2 .9-2 2v14c0 1.1.9 2 2 2h14c1.1 0 2-.9 2-2V5c0-1.1-.9-2-2-2zM9 17H7v-7h2v7zm4 0h-2V7h2v10zm4 0h-2v-4h2v4z\"/>\n",
              "    </g>\n",
              "</svg>\n",
              "  </button>\n",
              "\n",
              "<style>\n",
              "  .colab-df-quickchart {\n",
              "      --bg-color: #E8F0FE;\n",
              "      --fill-color: #1967D2;\n",
              "      --hover-bg-color: #E2EBFA;\n",
              "      --hover-fill-color: #174EA6;\n",
              "      --disabled-fill-color: #AAA;\n",
              "      --disabled-bg-color: #DDD;\n",
              "  }\n",
              "\n",
              "  [theme=dark] .colab-df-quickchart {\n",
              "      --bg-color: #3B4455;\n",
              "      --fill-color: #D2E3FC;\n",
              "      --hover-bg-color: #434B5C;\n",
              "      --hover-fill-color: #FFFFFF;\n",
              "      --disabled-bg-color: #3B4455;\n",
              "      --disabled-fill-color: #666;\n",
              "  }\n",
              "\n",
              "  .colab-df-quickchart {\n",
              "    background-color: var(--bg-color);\n",
              "    border: none;\n",
              "    border-radius: 50%;\n",
              "    cursor: pointer;\n",
              "    display: none;\n",
              "    fill: var(--fill-color);\n",
              "    height: 32px;\n",
              "    padding: 0;\n",
              "    width: 32px;\n",
              "  }\n",
              "\n",
              "  .colab-df-quickchart:hover {\n",
              "    background-color: var(--hover-bg-color);\n",
              "    box-shadow: 0 1px 2px rgba(60, 64, 67, 0.3), 0 1px 3px 1px rgba(60, 64, 67, 0.15);\n",
              "    fill: var(--button-hover-fill-color);\n",
              "  }\n",
              "\n",
              "  .colab-df-quickchart-complete:disabled,\n",
              "  .colab-df-quickchart-complete:disabled:hover {\n",
              "    background-color: var(--disabled-bg-color);\n",
              "    fill: var(--disabled-fill-color);\n",
              "    box-shadow: none;\n",
              "  }\n",
              "\n",
              "  .colab-df-spinner {\n",
              "    border: 2px solid var(--fill-color);\n",
              "    border-color: transparent;\n",
              "    border-bottom-color: var(--fill-color);\n",
              "    animation:\n",
              "      spin 1s steps(1) infinite;\n",
              "  }\n",
              "\n",
              "  @keyframes spin {\n",
              "    0% {\n",
              "      border-color: transparent;\n",
              "      border-bottom-color: var(--fill-color);\n",
              "      border-left-color: var(--fill-color);\n",
              "    }\n",
              "    20% {\n",
              "      border-color: transparent;\n",
              "      border-left-color: var(--fill-color);\n",
              "      border-top-color: var(--fill-color);\n",
              "    }\n",
              "    30% {\n",
              "      border-color: transparent;\n",
              "      border-left-color: var(--fill-color);\n",
              "      border-top-color: var(--fill-color);\n",
              "      border-right-color: var(--fill-color);\n",
              "    }\n",
              "    40% {\n",
              "      border-color: transparent;\n",
              "      border-right-color: var(--fill-color);\n",
              "      border-top-color: var(--fill-color);\n",
              "    }\n",
              "    60% {\n",
              "      border-color: transparent;\n",
              "      border-right-color: var(--fill-color);\n",
              "    }\n",
              "    80% {\n",
              "      border-color: transparent;\n",
              "      border-right-color: var(--fill-color);\n",
              "      border-bottom-color: var(--fill-color);\n",
              "    }\n",
              "    90% {\n",
              "      border-color: transparent;\n",
              "      border-bottom-color: var(--fill-color);\n",
              "    }\n",
              "  }\n",
              "</style>\n",
              "\n",
              "  <script>\n",
              "    async function quickchart(key) {\n",
              "      const quickchartButtonEl =\n",
              "        document.querySelector('#' + key + ' button');\n",
              "      quickchartButtonEl.disabled = true;  // To prevent multiple clicks.\n",
              "      quickchartButtonEl.classList.add('colab-df-spinner');\n",
              "      try {\n",
              "        const charts = await google.colab.kernel.invokeFunction(\n",
              "            'suggestCharts', [key], {});\n",
              "      } catch (error) {\n",
              "        console.error('Error during call to suggestCharts:', error);\n",
              "      }\n",
              "      quickchartButtonEl.classList.remove('colab-df-spinner');\n",
              "      quickchartButtonEl.classList.add('colab-df-quickchart-complete');\n",
              "    }\n",
              "    (() => {\n",
              "      let quickchartButtonEl =\n",
              "        document.querySelector('#df-4e61b065-312e-479a-9e9e-59cf2f311a49 button');\n",
              "      quickchartButtonEl.style.display =\n",
              "        google.colab.kernel.accessAllowed ? 'block' : 'none';\n",
              "    })();\n",
              "  </script>\n",
              "</div>\n",
              "    </div>\n",
              "  </div>\n"
            ],
            "application/vnd.google.colaboratory.intrinsic+json": {
              "type": "dataframe",
              "variable_name": "valid",
              "summary": "{\n  \"name\": \"valid\",\n  \"rows\": 50000,\n  \"fields\": [\n    {\n      \"column\": \"question\",\n      \"properties\": {\n        \"dtype\": \"string\",\n        \"num_unique_values\": 50000,\n        \"samples\": [\n          \"does it have screen to protect the screen\",\n          \"how tall is the glass portion of this bottle? how about with the cap on?\",\n          \"has anyone tried using dog wee wee pads in lieu of tidy cat breeze pads?  they are much cheaper, just wonder if they would work as well?\"\n        ],\n        \"semantic_type\": \"\",\n        \"description\": \"\"\n      }\n    },\n    {\n      \"column\": \"response\",\n      \"properties\": {\n        \"dtype\": \"string\",\n        \"num_unique_values\": 48726,\n        \"samples\": [\n          \"the leupold is not true 1x magnification. thus you can't really do two eyes open while looking at both the surroundings and the scope. it was for this reason i returned the leupold. i have not used the burris. the trijicon accupoint 1-4 is true two eyes open. if the burris has a true two eyes open similar to that of the trijicon - thats what i would go with.\",\n          \"i would imagine it could, but it seemed like the screw holes were pretty small(i only fastened mine to the seat bolt)\",\n          \"i live in venezuela, and the phone works smoothly with the three phone companies that exist in venezuela. i presume it should work globally since being released do for all the cell phone companies.\"\n        ],\n        \"semantic_type\": \"\",\n        \"description\": \"\"\n      }\n    },\n    {\n      \"column\": \"category\",\n      \"properties\": {\n        \"dtype\": \"category\",\n        \"num_unique_values\": 8,\n        \"samples\": [\n          \"automotive\",\n          \"sports and outdoors\",\n          \"cell phones and accessories\"\n        ],\n        \"semantic_type\": \"\",\n        \"description\": \"\"\n      }\n    }\n  ]\n}"
            }
          },
          "metadata": {},
          "execution_count": 11
        }
      ],
      "source": [
        "valid"
      ]
    },
    {
      "cell_type": "markdown",
      "metadata": {
        "id": "xQELow3qp0HS"
      },
      "source": [
        "## Задача\n",
        "Классифицировать поле question в одну из категорий в поле category.  \n",
        "Это данные с сервиса Amazon QA, то есть такой сервис, на котором можно задать вопрос и получить ответ от других пользователей.\n",
        "\n",
        "Идея задачи такая: давайте поможем клиенту определить в какую категорию выложить его вопрос, чтобы быстрее получить максимально релевантный ответ."
      ]
    },
    {
      "cell_type": "markdown",
      "metadata": {
        "id": "ZLQpPnVvp0HS"
      },
      "source": [
        "### Перевод класса в индекс\n",
        "Мы сделаем некоторый маппер, который текст класса переводит в конкретный уникальный индекс. Нам это понадобиться, потому что наша\n",
        "модель работает не напрямую с классом, а с его индексом."
      ]
    },
    {
      "cell_type": "code",
      "execution_count": 12,
      "metadata": {
        "id": "Dv62gHzop0HS",
        "colab": {
          "base_uri": "https://localhost:8080/"
        },
        "outputId": "0989a9aa-dffe-46e5-89d8-071c06777b96"
      },
      "outputs": [
        {
          "output_type": "execute_result",
          "data": {
            "text/plain": [
              "True"
            ]
          },
          "metadata": {},
          "execution_count": 12
        }
      ],
      "source": [
        "# проверим, что в трейне и валидации одинаковые категории\n",
        "set(train.category.unique().tolist()) == set(valid.category.unique().tolist())"
      ]
    },
    {
      "cell_type": "code",
      "execution_count": 13,
      "metadata": {
        "id": "ss2SiLgCp0HT"
      },
      "outputs": [],
      "source": [
        "unique_categories = set(train.category.unique().tolist() + valid.category.unique().tolist())"
      ]
    },
    {
      "cell_type": "code",
      "execution_count": 14,
      "metadata": {
        "id": "gKvqnML8p0HT"
      },
      "outputs": [],
      "source": [
        "category2index = {category: index for index, category in enumerate(unique_categories)}"
      ]
    },
    {
      "cell_type": "code",
      "execution_count": 15,
      "metadata": {
        "id": "jtPRHwVAp0HT",
        "colab": {
          "base_uri": "https://localhost:8080/"
        },
        "outputId": "10eaf813-f532-4334-b9bc-be5d10aa59ad"
      },
      "outputs": [
        {
          "output_type": "execute_result",
          "data": {
            "text/plain": [
              "{'automotive': 0,\n",
              " 'office products': 1,\n",
              " 'sports and outdoors': 2,\n",
              " 'beauty': 3,\n",
              " 'baby': 4,\n",
              " 'pet supplies': 5,\n",
              " 'cell phones and accessories': 6,\n",
              " 'grocery and gourmet food': 7}"
            ]
          },
          "metadata": {},
          "execution_count": 15
        }
      ],
      "source": [
        "category2index"
      ]
    },
    {
      "cell_type": "code",
      "execution_count": 16,
      "metadata": {
        "id": "H9OQb4COp0HU"
      },
      "outputs": [],
      "source": [
        "train['target'] = train.category.map(category2index)\n",
        "valid['target'] = valid.category.map(category2index)"
      ]
    },
    {
      "cell_type": "code",
      "execution_count": 17,
      "metadata": {
        "id": "rhTpK-cZp0HU",
        "colab": {
          "base_uri": "https://localhost:8080/",
          "height": 419
        },
        "outputId": "2127f406-b421-49af-97aa-5d1ee57ffdaa"
      },
      "outputs": [
        {
          "output_type": "execute_result",
          "data": {
            "text/plain": [
              "                                                 question  \\\n",
              "0       are the filters reuseable? i'm not sure i want...   \n",
              "1       will this charge both galaxy s4 and iphone 3gs...   \n",
              "2       we treat \"wet\" (cheese or meat).  is the insid...   \n",
              "3       received my base/top coat today.  based on thw...   \n",
              "4       i'm just getting into nooks and crannies. i wa...   \n",
              "...                                                   ...   \n",
              "249995  does this case interfere with the touch input ...   \n",
              "249996                          can the hooks by reversed   \n",
              "249997  is this the type that will fit the graco duogl...   \n",
              "249998  got it to work a couple of times after fiddlin...   \n",
              "249999                                   time of waranty?   \n",
              "\n",
              "                                                 response  \\\n",
              "0       i've been rinsing mine out but i really think ...   \n",
              "1       yes, it will not only charge both but also cha...   \n",
              "2       yes it can be cleaned pretty easily...it's lik...   \n",
              "3       i honestly have never paid attention to the sk...   \n",
              "4                its a great hands free lamp.good quality   \n",
              "...                                                   ...   \n",
              "249995        it does not for us it works perfectly fine.   \n",
              "249996                        no they cannot be reversed.   \n",
              "249997  yes. classic connect fits with other classic c...   \n",
              "249998  not sure why you are fiddling with the battery...   \n",
              "249999                               no motorola warranty   \n",
              "\n",
              "                           category  target  \n",
              "0                      pet supplies       5  \n",
              "1       cell phones and accessories       6  \n",
              "2                      pet supplies       5  \n",
              "3                            beauty       3  \n",
              "4               sports and outdoors       2  \n",
              "...                             ...     ...  \n",
              "249995  cell phones and accessories       6  \n",
              "249996          sports and outdoors       2  \n",
              "249997                         baby       4  \n",
              "249998                   automotive       0  \n",
              "249999  cell phones and accessories       6  \n",
              "\n",
              "[250000 rows x 4 columns]"
            ],
            "text/html": [
              "\n",
              "  <div id=\"df-a2c90ae1-c4a2-4778-81ce-ec38e72cf409\" class=\"colab-df-container\">\n",
              "    <div>\n",
              "<style scoped>\n",
              "    .dataframe tbody tr th:only-of-type {\n",
              "        vertical-align: middle;\n",
              "    }\n",
              "\n",
              "    .dataframe tbody tr th {\n",
              "        vertical-align: top;\n",
              "    }\n",
              "\n",
              "    .dataframe thead th {\n",
              "        text-align: right;\n",
              "    }\n",
              "</style>\n",
              "<table border=\"1\" class=\"dataframe\">\n",
              "  <thead>\n",
              "    <tr style=\"text-align: right;\">\n",
              "      <th></th>\n",
              "      <th>question</th>\n",
              "      <th>response</th>\n",
              "      <th>category</th>\n",
              "      <th>target</th>\n",
              "    </tr>\n",
              "  </thead>\n",
              "  <tbody>\n",
              "    <tr>\n",
              "      <th>0</th>\n",
              "      <td>are the filters reuseable? i'm not sure i want...</td>\n",
              "      <td>i've been rinsing mine out but i really think ...</td>\n",
              "      <td>pet supplies</td>\n",
              "      <td>5</td>\n",
              "    </tr>\n",
              "    <tr>\n",
              "      <th>1</th>\n",
              "      <td>will this charge both galaxy s4 and iphone 3gs...</td>\n",
              "      <td>yes, it will not only charge both but also cha...</td>\n",
              "      <td>cell phones and accessories</td>\n",
              "      <td>6</td>\n",
              "    </tr>\n",
              "    <tr>\n",
              "      <th>2</th>\n",
              "      <td>we treat \"wet\" (cheese or meat).  is the insid...</td>\n",
              "      <td>yes it can be cleaned pretty easily...it's lik...</td>\n",
              "      <td>pet supplies</td>\n",
              "      <td>5</td>\n",
              "    </tr>\n",
              "    <tr>\n",
              "      <th>3</th>\n",
              "      <td>received my base/top coat today.  based on thw...</td>\n",
              "      <td>i honestly have never paid attention to the sk...</td>\n",
              "      <td>beauty</td>\n",
              "      <td>3</td>\n",
              "    </tr>\n",
              "    <tr>\n",
              "      <th>4</th>\n",
              "      <td>i'm just getting into nooks and crannies. i wa...</td>\n",
              "      <td>its a great hands free lamp.good quality</td>\n",
              "      <td>sports and outdoors</td>\n",
              "      <td>2</td>\n",
              "    </tr>\n",
              "    <tr>\n",
              "      <th>...</th>\n",
              "      <td>...</td>\n",
              "      <td>...</td>\n",
              "      <td>...</td>\n",
              "      <td>...</td>\n",
              "    </tr>\n",
              "    <tr>\n",
              "      <th>249995</th>\n",
              "      <td>does this case interfere with the touch input ...</td>\n",
              "      <td>it does not for us it works perfectly fine.</td>\n",
              "      <td>cell phones and accessories</td>\n",
              "      <td>6</td>\n",
              "    </tr>\n",
              "    <tr>\n",
              "      <th>249996</th>\n",
              "      <td>can the hooks by reversed</td>\n",
              "      <td>no they cannot be reversed.</td>\n",
              "      <td>sports and outdoors</td>\n",
              "      <td>2</td>\n",
              "    </tr>\n",
              "    <tr>\n",
              "      <th>249997</th>\n",
              "      <td>is this the type that will fit the graco duogl...</td>\n",
              "      <td>yes. classic connect fits with other classic c...</td>\n",
              "      <td>baby</td>\n",
              "      <td>4</td>\n",
              "    </tr>\n",
              "    <tr>\n",
              "      <th>249998</th>\n",
              "      <td>got it to work a couple of times after fiddlin...</td>\n",
              "      <td>not sure why you are fiddling with the battery...</td>\n",
              "      <td>automotive</td>\n",
              "      <td>0</td>\n",
              "    </tr>\n",
              "    <tr>\n",
              "      <th>249999</th>\n",
              "      <td>time of waranty?</td>\n",
              "      <td>no motorola warranty</td>\n",
              "      <td>cell phones and accessories</td>\n",
              "      <td>6</td>\n",
              "    </tr>\n",
              "  </tbody>\n",
              "</table>\n",
              "<p>250000 rows × 4 columns</p>\n",
              "</div>\n",
              "    <div class=\"colab-df-buttons\">\n",
              "\n",
              "  <div class=\"colab-df-container\">\n",
              "    <button class=\"colab-df-convert\" onclick=\"convertToInteractive('df-a2c90ae1-c4a2-4778-81ce-ec38e72cf409')\"\n",
              "            title=\"Convert this dataframe to an interactive table.\"\n",
              "            style=\"display:none;\">\n",
              "\n",
              "  <svg xmlns=\"http://www.w3.org/2000/svg\" height=\"24px\" viewBox=\"0 -960 960 960\">\n",
              "    <path d=\"M120-120v-720h720v720H120Zm60-500h600v-160H180v160Zm220 220h160v-160H400v160Zm0 220h160v-160H400v160ZM180-400h160v-160H180v160Zm440 0h160v-160H620v160ZM180-180h160v-160H180v160Zm440 0h160v-160H620v160Z\"/>\n",
              "  </svg>\n",
              "    </button>\n",
              "\n",
              "  <style>\n",
              "    .colab-df-container {\n",
              "      display:flex;\n",
              "      gap: 12px;\n",
              "    }\n",
              "\n",
              "    .colab-df-convert {\n",
              "      background-color: #E8F0FE;\n",
              "      border: none;\n",
              "      border-radius: 50%;\n",
              "      cursor: pointer;\n",
              "      display: none;\n",
              "      fill: #1967D2;\n",
              "      height: 32px;\n",
              "      padding: 0 0 0 0;\n",
              "      width: 32px;\n",
              "    }\n",
              "\n",
              "    .colab-df-convert:hover {\n",
              "      background-color: #E2EBFA;\n",
              "      box-shadow: 0px 1px 2px rgba(60, 64, 67, 0.3), 0px 1px 3px 1px rgba(60, 64, 67, 0.15);\n",
              "      fill: #174EA6;\n",
              "    }\n",
              "\n",
              "    .colab-df-buttons div {\n",
              "      margin-bottom: 4px;\n",
              "    }\n",
              "\n",
              "    [theme=dark] .colab-df-convert {\n",
              "      background-color: #3B4455;\n",
              "      fill: #D2E3FC;\n",
              "    }\n",
              "\n",
              "    [theme=dark] .colab-df-convert:hover {\n",
              "      background-color: #434B5C;\n",
              "      box-shadow: 0px 1px 3px 1px rgba(0, 0, 0, 0.15);\n",
              "      filter: drop-shadow(0px 1px 2px rgba(0, 0, 0, 0.3));\n",
              "      fill: #FFFFFF;\n",
              "    }\n",
              "  </style>\n",
              "\n",
              "    <script>\n",
              "      const buttonEl =\n",
              "        document.querySelector('#df-a2c90ae1-c4a2-4778-81ce-ec38e72cf409 button.colab-df-convert');\n",
              "      buttonEl.style.display =\n",
              "        google.colab.kernel.accessAllowed ? 'block' : 'none';\n",
              "\n",
              "      async function convertToInteractive(key) {\n",
              "        const element = document.querySelector('#df-a2c90ae1-c4a2-4778-81ce-ec38e72cf409');\n",
              "        const dataTable =\n",
              "          await google.colab.kernel.invokeFunction('convertToInteractive',\n",
              "                                                    [key], {});\n",
              "        if (!dataTable) return;\n",
              "\n",
              "        const docLinkHtml = 'Like what you see? Visit the ' +\n",
              "          '<a target=\"_blank\" href=https://colab.research.google.com/notebooks/data_table.ipynb>data table notebook</a>'\n",
              "          + ' to learn more about interactive tables.';\n",
              "        element.innerHTML = '';\n",
              "        dataTable['output_type'] = 'display_data';\n",
              "        await google.colab.output.renderOutput(dataTable, element);\n",
              "        const docLink = document.createElement('div');\n",
              "        docLink.innerHTML = docLinkHtml;\n",
              "        element.appendChild(docLink);\n",
              "      }\n",
              "    </script>\n",
              "  </div>\n",
              "\n",
              "\n",
              "<div id=\"df-a3c4014f-17c8-487d-bf0e-d011b7ac77ff\">\n",
              "  <button class=\"colab-df-quickchart\" onclick=\"quickchart('df-a3c4014f-17c8-487d-bf0e-d011b7ac77ff')\"\n",
              "            title=\"Suggest charts\"\n",
              "            style=\"display:none;\">\n",
              "\n",
              "<svg xmlns=\"http://www.w3.org/2000/svg\" height=\"24px\"viewBox=\"0 0 24 24\"\n",
              "     width=\"24px\">\n",
              "    <g>\n",
              "        <path d=\"M19 3H5c-1.1 0-2 .9-2 2v14c0 1.1.9 2 2 2h14c1.1 0 2-.9 2-2V5c0-1.1-.9-2-2-2zM9 17H7v-7h2v7zm4 0h-2V7h2v10zm4 0h-2v-4h2v4z\"/>\n",
              "    </g>\n",
              "</svg>\n",
              "  </button>\n",
              "\n",
              "<style>\n",
              "  .colab-df-quickchart {\n",
              "      --bg-color: #E8F0FE;\n",
              "      --fill-color: #1967D2;\n",
              "      --hover-bg-color: #E2EBFA;\n",
              "      --hover-fill-color: #174EA6;\n",
              "      --disabled-fill-color: #AAA;\n",
              "      --disabled-bg-color: #DDD;\n",
              "  }\n",
              "\n",
              "  [theme=dark] .colab-df-quickchart {\n",
              "      --bg-color: #3B4455;\n",
              "      --fill-color: #D2E3FC;\n",
              "      --hover-bg-color: #434B5C;\n",
              "      --hover-fill-color: #FFFFFF;\n",
              "      --disabled-bg-color: #3B4455;\n",
              "      --disabled-fill-color: #666;\n",
              "  }\n",
              "\n",
              "  .colab-df-quickchart {\n",
              "    background-color: var(--bg-color);\n",
              "    border: none;\n",
              "    border-radius: 50%;\n",
              "    cursor: pointer;\n",
              "    display: none;\n",
              "    fill: var(--fill-color);\n",
              "    height: 32px;\n",
              "    padding: 0;\n",
              "    width: 32px;\n",
              "  }\n",
              "\n",
              "  .colab-df-quickchart:hover {\n",
              "    background-color: var(--hover-bg-color);\n",
              "    box-shadow: 0 1px 2px rgba(60, 64, 67, 0.3), 0 1px 3px 1px rgba(60, 64, 67, 0.15);\n",
              "    fill: var(--button-hover-fill-color);\n",
              "  }\n",
              "\n",
              "  .colab-df-quickchart-complete:disabled,\n",
              "  .colab-df-quickchart-complete:disabled:hover {\n",
              "    background-color: var(--disabled-bg-color);\n",
              "    fill: var(--disabled-fill-color);\n",
              "    box-shadow: none;\n",
              "  }\n",
              "\n",
              "  .colab-df-spinner {\n",
              "    border: 2px solid var(--fill-color);\n",
              "    border-color: transparent;\n",
              "    border-bottom-color: var(--fill-color);\n",
              "    animation:\n",
              "      spin 1s steps(1) infinite;\n",
              "  }\n",
              "\n",
              "  @keyframes spin {\n",
              "    0% {\n",
              "      border-color: transparent;\n",
              "      border-bottom-color: var(--fill-color);\n",
              "      border-left-color: var(--fill-color);\n",
              "    }\n",
              "    20% {\n",
              "      border-color: transparent;\n",
              "      border-left-color: var(--fill-color);\n",
              "      border-top-color: var(--fill-color);\n",
              "    }\n",
              "    30% {\n",
              "      border-color: transparent;\n",
              "      border-left-color: var(--fill-color);\n",
              "      border-top-color: var(--fill-color);\n",
              "      border-right-color: var(--fill-color);\n",
              "    }\n",
              "    40% {\n",
              "      border-color: transparent;\n",
              "      border-right-color: var(--fill-color);\n",
              "      border-top-color: var(--fill-color);\n",
              "    }\n",
              "    60% {\n",
              "      border-color: transparent;\n",
              "      border-right-color: var(--fill-color);\n",
              "    }\n",
              "    80% {\n",
              "      border-color: transparent;\n",
              "      border-right-color: var(--fill-color);\n",
              "      border-bottom-color: var(--fill-color);\n",
              "    }\n",
              "    90% {\n",
              "      border-color: transparent;\n",
              "      border-bottom-color: var(--fill-color);\n",
              "    }\n",
              "  }\n",
              "</style>\n",
              "\n",
              "  <script>\n",
              "    async function quickchart(key) {\n",
              "      const quickchartButtonEl =\n",
              "        document.querySelector('#' + key + ' button');\n",
              "      quickchartButtonEl.disabled = true;  // To prevent multiple clicks.\n",
              "      quickchartButtonEl.classList.add('colab-df-spinner');\n",
              "      try {\n",
              "        const charts = await google.colab.kernel.invokeFunction(\n",
              "            'suggestCharts', [key], {});\n",
              "      } catch (error) {\n",
              "        console.error('Error during call to suggestCharts:', error);\n",
              "      }\n",
              "      quickchartButtonEl.classList.remove('colab-df-spinner');\n",
              "      quickchartButtonEl.classList.add('colab-df-quickchart-complete');\n",
              "    }\n",
              "    (() => {\n",
              "      let quickchartButtonEl =\n",
              "        document.querySelector('#df-a3c4014f-17c8-487d-bf0e-d011b7ac77ff button');\n",
              "      quickchartButtonEl.style.display =\n",
              "        google.colab.kernel.accessAllowed ? 'block' : 'none';\n",
              "    })();\n",
              "  </script>\n",
              "</div>\n",
              "    </div>\n",
              "  </div>\n"
            ],
            "application/vnd.google.colaboratory.intrinsic+json": {
              "type": "dataframe",
              "variable_name": "train"
            }
          },
          "metadata": {},
          "execution_count": 17
        }
      ],
      "source": [
        "train"
      ]
    },
    {
      "cell_type": "markdown",
      "metadata": {
        "id": "EOAWUz_7p0HU"
      },
      "source": [
        "### Torch Dataset, DataLoader\n",
        "\n",
        "Очень важная абстракция для торча.\n",
        "Мы всегда будем ее использовать, чтобы работать с данными.\n",
        "\n",
        "Dataset - класс, от которого нужно наследоваться, чтобы написать свой обработчик данных. Внутри него нужно реализовать два метода,\n",
        "о которых будет чуть ниже. То есть в данном классе вы описывает как нужно преобразовать ваши данные в торчовый формат. Перевести тексты\n",
        "в индексы слов и тд.\n",
        "\n",
        "DataLoader - класс, который будет за вас семплировать данные батчами. Это итератор, поэтому формат работы с ним примерно такой:\n",
        "```python\n",
        "for batch in data_loader:\n",
        "    ...\n",
        "```\n",
        "То есть на каждой итерации отдается по одному батчу данных. Итерирование заканчивается, когда вы пройдете все батчи.\n",
        "\n",
        "Зачем нужны эти абстракции? Чтобы упростить и унифицировать работу с данными.\n",
        "Вообще вы можете реализовать что-то свое, но это упрощение данной задачи."
      ]
    },
    {
      "cell_type": "code",
      "execution_count": 18,
      "metadata": {
        "id": "MuBX0qTRp0HU"
      },
      "outputs": [],
      "source": [
        "from torch.utils.data import Dataset, DataLoader"
      ]
    },
    {
      "cell_type": "code",
      "execution_count": 19,
      "metadata": {
        "id": "wtNpYACWp0HV"
      },
      "outputs": [],
      "source": [
        "# игрушечный датасет\n",
        "# 121535 примера, 4 фичи, 3 класса\n",
        "some_data_x = np.random.rand(121535, 4)\n",
        "some_data_y = np.random.randint(3, size=(121535,))"
      ]
    },
    {
      "cell_type": "code",
      "execution_count": 20,
      "metadata": {
        "id": "3AEjK6A9p0HV",
        "colab": {
          "base_uri": "https://localhost:8080/"
        },
        "outputId": "f4a0081a-7ae7-4331-9831-cb17d19993ea"
      },
      "outputs": [
        {
          "output_type": "execute_result",
          "data": {
            "text/plain": [
              "array([[0.91998652, 0.58926675, 0.90778266, 0.90399316],\n",
              "       [0.89332144, 0.05718318, 0.75798726, 0.13031258],\n",
              "       [0.25997088, 0.49834849, 0.27814297, 0.01357542],\n",
              "       [0.64375986, 0.2303675 , 0.33216868, 0.91242877],\n",
              "       [0.38719682, 0.68900246, 0.65596796, 0.0256628 ],\n",
              "       [0.8241587 , 0.17909597, 0.2291123 , 0.5015994 ],\n",
              "       [0.30896286, 0.47647209, 0.95230102, 0.0301235 ],\n",
              "       [0.2747759 , 0.97401931, 0.07022656, 0.42842137],\n",
              "       [0.80016287, 0.67156067, 0.90121979, 0.97764582],\n",
              "       [0.59895967, 0.99206129, 0.36052771, 0.32218592]])"
            ]
          },
          "metadata": {},
          "execution_count": 20
        }
      ],
      "source": [
        "# просто рандомные цифры\n",
        "some_data_x[:10]"
      ]
    },
    {
      "cell_type": "code",
      "execution_count": 21,
      "metadata": {
        "id": "VTdPP8U0p0HV",
        "colab": {
          "base_uri": "https://localhost:8080/"
        },
        "outputId": "06e8f017-8aa4-409a-b301-825bfb86544a"
      },
      "outputs": [
        {
          "output_type": "execute_result",
          "data": {
            "text/plain": [
              "array([2, 2, 2, ..., 0, 2, 0])"
            ]
          },
          "metadata": {},
          "execution_count": 21
        }
      ],
      "source": [
        "# и классы\n",
        "some_data_y"
      ]
    },
    {
      "cell_type": "markdown",
      "metadata": {
        "id": "KCoMD9Ccp0HV"
      },
      "source": [
        "### Пример надобности\n",
        "Для обучения модели вам нужно подавать в нее батчи данных. Как бы могли это реализовать, если бы у нас не было Dataset и DataLoader"
      ]
    },
    {
      "cell_type": "code",
      "execution_count": 22,
      "metadata": {
        "id": "I7gaogQCp0HV"
      },
      "outputs": [],
      "source": [
        "batch_size = 16\n",
        "\n",
        "for i_batch in range(math.ceil(some_data_x.shape[0] / batch_size)):\n",
        "\n",
        "    x_batch = some_data_x[i_batch * batch_size:(i_batch + 1) * batch_size]\n",
        "    y_batch = some_data_y[i_batch * batch_size:(i_batch + 1) * batch_size]\n",
        "\n",
        "    x_batch = torch.tensor(x_batch)\n",
        "    y_batch = torch.tensor(y_batch)\n",
        "\n",
        "    break"
      ]
    },
    {
      "cell_type": "code",
      "execution_count": 23,
      "metadata": {
        "id": "MpmsEYxFp0HW",
        "colab": {
          "base_uri": "https://localhost:8080/"
        },
        "outputId": "a9b5c0f8-a5dd-4591-c671-0d23c7956c7f"
      },
      "outputs": [
        {
          "output_type": "execute_result",
          "data": {
            "text/plain": [
              "tensor([[0.9200, 0.5893, 0.9078, 0.9040],\n",
              "        [0.8933, 0.0572, 0.7580, 0.1303],\n",
              "        [0.2600, 0.4983, 0.2781, 0.0136],\n",
              "        [0.6438, 0.2304, 0.3322, 0.9124],\n",
              "        [0.3872, 0.6890, 0.6560, 0.0257],\n",
              "        [0.8242, 0.1791, 0.2291, 0.5016],\n",
              "        [0.3090, 0.4765, 0.9523, 0.0301],\n",
              "        [0.2748, 0.9740, 0.0702, 0.4284],\n",
              "        [0.8002, 0.6716, 0.9012, 0.9776],\n",
              "        [0.5990, 0.9921, 0.3605, 0.3222],\n",
              "        [0.6842, 0.6506, 0.6042, 0.8919],\n",
              "        [0.1674, 0.7238, 0.2199, 0.7564],\n",
              "        [0.4455, 0.2077, 0.6758, 0.2533],\n",
              "        [0.1710, 0.9499, 0.6658, 0.1412],\n",
              "        [0.4648, 0.7903, 0.5312, 0.1685],\n",
              "        [0.5906, 0.4761, 0.2015, 0.9270]], dtype=torch.float64)"
            ]
          },
          "metadata": {},
          "execution_count": 23
        }
      ],
      "source": [
        "x_batch"
      ]
    },
    {
      "cell_type": "code",
      "execution_count": 24,
      "metadata": {
        "id": "HslxQoKzp0HW",
        "colab": {
          "base_uri": "https://localhost:8080/"
        },
        "outputId": "58dd1ba6-9dee-4ceb-ce8b-eb55c8e989e0"
      },
      "outputs": [
        {
          "output_type": "execute_result",
          "data": {
            "text/plain": [
              "(torch.Size([16, 4]), torch.Size([16]))"
            ]
          },
          "metadata": {},
          "execution_count": 24
        }
      ],
      "source": [
        "x_batch.shape, y_batch.shape"
      ]
    },
    {
      "cell_type": "markdown",
      "metadata": {
        "id": "kKtbXt_Bp0HW"
      },
      "source": [
        "Это достаточно простой пример. Мы смогли справиться сами, но почти всегда обработка данных для подачи ее в модель делается сложнее.\n",
        "И некоторые вещи часто нужны более одного раза, например, если мы хотим каждую эпоху шафлить наши данные, чтобы получать разные батчи.\n",
        "Мы сможем это сделать, но для этого нам придется тащить с собой некоторый код из проекта в проект. К тому же совместная разработка или\n",
        "просто чтение чужого кода сильно упрощается, когда вы используете унифицированные форматы."
      ]
    },
    {
      "cell_type": "markdown",
      "metadata": {
        "id": "mccmAkLBp0HW"
      },
      "source": [
        "### Перейдем к Dataset\n",
        "И обернем наши данные в этот обработчик"
      ]
    },
    {
      "cell_type": "code",
      "execution_count": 25,
      "metadata": {
        "id": "XiUD-Ugfp0HW"
      },
      "outputs": [],
      "source": [
        "class ToyDataset(Dataset):\n",
        "\n",
        "    def __init__(self, data_x, data_y):\n",
        "\n",
        "        super().__init__()\n",
        "\n",
        "        self.data_x = data_x\n",
        "        self.data_y = data_y\n",
        "\n",
        "    def __len__(self):\n",
        "\n",
        "        # нужно обязательно определить эту функцию\n",
        "        # должна возвращать размер датасета\n",
        "        # нужен для DataLoader, чтобы семплировать батчи\n",
        "\n",
        "        return len(self.data_x)\n",
        "\n",
        "    def __getitem__(self, idx):\n",
        "\n",
        "        # еще нужно определить этот метод\n",
        "        # то есть как мы будем доставать наши данные по индексу\n",
        "\n",
        "        return self.data_x[idx], self.data_y[idx]"
      ]
    },
    {
      "cell_type": "code",
      "execution_count": 26,
      "metadata": {
        "id": "jkHSn_Cap0HW"
      },
      "outputs": [],
      "source": [
        "some_dataset = ToyDataset(some_data_x, some_data_y)"
      ]
    },
    {
      "cell_type": "code",
      "execution_count": 27,
      "metadata": {
        "id": "FsTzxqjvp0HW",
        "colab": {
          "base_uri": "https://localhost:8080/"
        },
        "outputId": "a13456d6-2485-4376-b60f-98ef91e6cdf1"
      },
      "outputs": [
        {
          "output_type": "execute_result",
          "data": {
            "text/plain": [
              "((array([0.8241587 , 0.17909597, 0.2291123 , 0.5015994 ]), 2),\n",
              " (array([0.32746933, 0.71308874, 0.94537159, 0.41780824]), 0))"
            ]
          },
          "metadata": {},
          "execution_count": 27
        }
      ],
      "source": [
        "some_dataset[5], some_dataset[467]"
      ]
    },
    {
      "cell_type": "markdown",
      "metadata": {
        "id": "USLWDrm5p0HW"
      },
      "source": [
        "### Кажется, что смысла в этом нет, но это самый простой пример"
      ]
    },
    {
      "cell_type": "markdown",
      "metadata": {
        "id": "BOa2EaeJp0HW"
      },
      "source": [
        "### DataLoader\n",
        "В него мы можем задать некоторые параметры, например, батч сайз и нужно ли шафлить каждый новый проход по данным эти самые данные,\n",
        "чтобы получать разные батчи, то есть по разному компоновать эти батчи"
      ]
    },
    {
      "cell_type": "code",
      "execution_count": 28,
      "metadata": {
        "id": "MpScFxLbp0HX"
      },
      "outputs": [],
      "source": [
        "some_loader = DataLoader(some_dataset, batch_size=16, shuffle=True)"
      ]
    },
    {
      "cell_type": "code",
      "execution_count": 29,
      "metadata": {
        "id": "Hi-Q6rLip0HX",
        "colab": {
          "base_uri": "https://localhost:8080/"
        },
        "outputId": "3ddce9a9-18f9-4a03-f9ed-24ba139ace51"
      },
      "outputs": [
        {
          "output_type": "execute_result",
          "data": {
            "text/plain": [
              "tensor([[0.2511, 0.5841, 0.6809, 0.0418],\n",
              "        [0.7132, 0.2104, 0.8856, 0.7105],\n",
              "        [0.1700, 0.3060, 0.5678, 0.9652],\n",
              "        [0.0190, 0.5507, 0.8153, 0.8647],\n",
              "        [0.2396, 0.5645, 0.9169, 0.2882],\n",
              "        [0.5506, 0.2511, 0.2393, 0.7635],\n",
              "        [0.6281, 0.1255, 0.8027, 0.3662],\n",
              "        [0.4993, 0.2199, 0.0470, 0.5220],\n",
              "        [0.1173, 0.8786, 0.9049, 0.2078],\n",
              "        [0.6543, 0.6382, 0.4074, 0.7206],\n",
              "        [0.1695, 0.3320, 0.3472, 0.2462],\n",
              "        [0.4821, 0.4757, 0.0913, 0.6884],\n",
              "        [0.7751, 0.7921, 0.7547, 0.5552],\n",
              "        [0.4393, 0.6880, 0.9813, 0.2283],\n",
              "        [0.2887, 0.0197, 0.9411, 0.5643],\n",
              "        [0.5640, 0.6637, 0.8979, 0.6849]], dtype=torch.float64)"
            ]
          },
          "metadata": {},
          "execution_count": 29
        }
      ],
      "source": [
        "for x, y in some_loader:\n",
        "    break\n",
        "\n",
        "x"
      ]
    },
    {
      "cell_type": "code",
      "execution_count": 30,
      "metadata": {
        "id": "jMj088-Pp0HX",
        "colab": {
          "base_uri": "https://localhost:8080/"
        },
        "outputId": "901b22c9-b6de-488b-e02d-b3422e20bf5b"
      },
      "outputs": [
        {
          "output_type": "execute_result",
          "data": {
            "text/plain": [
              "torch.Size([16, 4])"
            ]
          },
          "metadata": {},
          "execution_count": 30
        }
      ],
      "source": [
        "x.shape"
      ]
    },
    {
      "cell_type": "code",
      "execution_count": 31,
      "metadata": {
        "id": "ebGFNrX1p0HX",
        "colab": {
          "base_uri": "https://localhost:8080/"
        },
        "outputId": "fec06a8d-d39e-44f6-ef1c-d36a808b1464"
      },
      "outputs": [
        {
          "output_type": "execute_result",
          "data": {
            "text/plain": [
              "15"
            ]
          },
          "metadata": {},
          "execution_count": 31
        }
      ],
      "source": [
        "for x, y in some_loader:\n",
        "    pass\n",
        "\n",
        "len(x)"
      ]
    },
    {
      "cell_type": "code",
      "execution_count": 32,
      "metadata": {
        "id": "Er7UQx_Fp0HX",
        "colab": {
          "base_uri": "https://localhost:8080/"
        },
        "outputId": "328a2ba8-98af-4ef3-d81c-26ab90b00348"
      },
      "outputs": [
        {
          "output_type": "execute_result",
          "data": {
            "text/plain": [
              "15"
            ]
          },
          "metadata": {},
          "execution_count": 32
        }
      ],
      "source": [
        "# почему 15?\n",
        "# потому что количество наших данных нацело не делится на 16\n",
        "# и поэтому последний батч меньше 16-ти\n",
        "len(some_dataset) % 16"
      ]
    },
    {
      "cell_type": "markdown",
      "metadata": {
        "id": "LsxvVXjCp0HX"
      },
      "source": [
        "### Усложним обработчик"
      ]
    },
    {
      "cell_type": "code",
      "execution_count": 33,
      "metadata": {
        "id": "8yRnSZHhp0HX"
      },
      "outputs": [],
      "source": [
        "class ToyDataset(Dataset):\n",
        "\n",
        "    def __init__(self, data_x, data_y):\n",
        "\n",
        "        super().__init__()\n",
        "\n",
        "        self.data_x = data_x\n",
        "        self.data_y = data_y\n",
        "\n",
        "    def __len__(self):\n",
        "\n",
        "        # нужно обязательно определить эту функцию\n",
        "        # должна возвращать размер датасета\n",
        "        # нужен для DataLoader, чтобы семплировать батчи\n",
        "\n",
        "        return len(self.data_x)\n",
        "\n",
        "    @staticmethod\n",
        "    def pow_features(x, n=2):\n",
        "\n",
        "        return x ** n\n",
        "\n",
        "    @staticmethod\n",
        "    def log_features(x):\n",
        "\n",
        "        return np.log(x)\n",
        "\n",
        "    def __getitem__(self, idx):\n",
        "\n",
        "        # еще нужно определить этот метод\n",
        "        # то есть как мы будем доставать наши данные по индексу\n",
        "\n",
        "        x = self.data_x[idx]\n",
        "\n",
        "        # внутри датасета мы можем делать все что угодно с нашими данными\n",
        "        # например выше определим функции, которые добавляют степенные фичи\n",
        "        x_p_2 = self.pow_features(x, n=2)\n",
        "        x_p_3 = self.pow_features(x, n=3)\n",
        "        # и еще возьмем логарифмические фичи\n",
        "        x_log = self.log_features(x)\n",
        "\n",
        "        # сконкатенируем наши фичи\n",
        "        x = np.concatenate([x, x_p_2, x_p_3, x_log])\n",
        "\n",
        "        y = self.data_y[idx]\n",
        "\n",
        "        return x, y"
      ]
    },
    {
      "cell_type": "code",
      "execution_count": 34,
      "metadata": {
        "id": "ExndjhSBp0HY"
      },
      "outputs": [],
      "source": [
        "toy_dataset = ToyDataset(some_data_x, some_data_y)"
      ]
    },
    {
      "cell_type": "code",
      "execution_count": 35,
      "metadata": {
        "id": "q_tDko7Vp0HY"
      },
      "outputs": [],
      "source": [
        "toy_loader = DataLoader(dataset=toy_dataset, batch_size=128)"
      ]
    },
    {
      "cell_type": "code",
      "execution_count": 36,
      "metadata": {
        "id": "31TUGLClp0HY"
      },
      "outputs": [],
      "source": [
        "for x, y in toy_loader:\n",
        "    break"
      ]
    },
    {
      "cell_type": "code",
      "execution_count": 37,
      "metadata": {
        "id": "jVArA8u7p0HY",
        "colab": {
          "base_uri": "https://localhost:8080/"
        },
        "outputId": "3d0e352c-1e1f-4f35-a12f-35abe3fe8a21"
      },
      "outputs": [
        {
          "output_type": "execute_result",
          "data": {
            "text/plain": [
              "torch.Size([128, 16])"
            ]
          },
          "metadata": {},
          "execution_count": 37
        }
      ],
      "source": [
        "x.shape"
      ]
    },
    {
      "cell_type": "code",
      "execution_count": 38,
      "metadata": {
        "id": "ruyBkvFyp0HY",
        "colab": {
          "base_uri": "https://localhost:8080/"
        },
        "outputId": "a075c2bd-bf3b-4b93-eb8c-e5c6be5aa0b0"
      },
      "outputs": [
        {
          "output_type": "execute_result",
          "data": {
            "text/plain": [
              "tensor([[ 0.9200,  0.5893,  0.9078,  ..., -0.5289, -0.0968, -0.1009],\n",
              "        [ 0.8933,  0.0572,  0.7580,  ..., -2.8615, -0.2771, -2.0378],\n",
              "        [ 0.2600,  0.4983,  0.2781,  ..., -0.6965, -1.2796, -4.2995],\n",
              "        ...,\n",
              "        [ 0.8351,  0.9846,  0.1645,  ..., -0.0155, -1.8046, -0.4957],\n",
              "        [ 0.2936,  0.3992,  0.4386,  ..., -0.9184, -0.8241, -0.8114],\n",
              "        [ 0.9993,  0.0313,  0.8514,  ..., -3.4642, -0.1608, -0.1856]],\n",
              "       dtype=torch.float64)"
            ]
          },
          "metadata": {},
          "execution_count": 38
        }
      ],
      "source": [
        "# заметим, что мы сразу получаем торчовый формат данных, который получился из автоматического преобразования из numpy\n",
        "x"
      ]
    },
    {
      "cell_type": "code",
      "execution_count": 39,
      "metadata": {
        "id": "FPKKn-wVp0HY",
        "colab": {
          "base_uri": "https://localhost:8080/"
        },
        "outputId": "cdf39891-0417-4a9e-ebd5-98fc2a3bdc60"
      },
      "outputs": [
        {
          "output_type": "execute_result",
          "data": {
            "text/plain": [
              "tensor([2, 2, 2, 0, 2, 2, 2, 2, 0, 1, 0, 2, 0, 2, 2, 0, 0, 0, 2, 1, 0, 1, 2, 1,\n",
              "        0, 0, 0, 2, 1, 2, 1, 1, 2, 2, 1, 1, 1, 0, 1, 0, 2, 1, 2, 2, 0, 1, 1, 0,\n",
              "        2, 0, 1, 0, 2, 1, 0, 2, 2, 1, 1, 1, 2, 0, 0, 2, 2, 1, 2, 1, 2, 1, 1, 1,\n",
              "        0, 0, 0, 2, 2, 0, 0, 2, 0, 0, 2, 1, 0, 0, 1, 2, 2, 1, 1, 1, 0, 2, 2, 0,\n",
              "        2, 0, 1, 1, 1, 2, 2, 0, 1, 1, 1, 2, 0, 1, 1, 0, 1, 1, 0, 1, 1, 2, 0, 0,\n",
              "        1, 2, 0, 2, 2, 1, 2, 0])"
            ]
          },
          "metadata": {},
          "execution_count": 39
        }
      ],
      "source": [
        "y"
      ]
    },
    {
      "cell_type": "code",
      "execution_count": 40,
      "metadata": {
        "id": "rL7uzHkJp0HY",
        "colab": {
          "base_uri": "https://localhost:8080/"
        },
        "outputId": "47ff7e64-9cb0-41da-f65b-91ace106bcb3"
      },
      "outputs": [
        {
          "output_type": "execute_result",
          "data": {
            "text/plain": [
              "1.1209640502929688"
            ]
          },
          "metadata": {},
          "execution_count": 40
        }
      ],
      "source": [
        "# сделаем небольшую модель и посчитаем лосс\n",
        "\n",
        "model = torch.nn.Sequential(torch.nn.Linear(16, 8),\n",
        "                            torch.nn.ReLU(),\n",
        "                            torch.nn.Linear(8, 4),\n",
        "                            torch.nn.ReLU(),\n",
        "                            torch.nn.Linear(4, 3))\n",
        "\n",
        "criterion = torch.nn.CrossEntropyLoss()\n",
        "\n",
        "with torch.no_grad():\n",
        "\n",
        "    prediction = model(x.float())\n",
        "\n",
        "    loss = criterion(prediction, y)\n",
        "\n",
        "loss.item()"
      ]
    },
    {
      "cell_type": "markdown",
      "metadata": {
        "id": "1hWvXoKzp0HY"
      },
      "source": [
        "### Сделаем датасет для наших текстовых данных\n",
        "Будем отдавать строку и таргет по индексу"
      ]
    },
    {
      "cell_type": "code",
      "execution_count": 41,
      "metadata": {
        "id": "BHtcNdp0p0HZ"
      },
      "outputs": [],
      "source": [
        "class TextClassificationDataset(Dataset):\n",
        "\n",
        "    def __init__(self, texts, targets):\n",
        "        super().__init__()\n",
        "\n",
        "        self.texts = texts\n",
        "        self.targets = targets\n",
        "\n",
        "    def __len__(self):\n",
        "        return len(self.texts)\n",
        "\n",
        "    def __getitem__(self, index):\n",
        "\n",
        "        text = self.texts[index]\n",
        "        target = self.targets[index]\n",
        "\n",
        "        return text, target"
      ]
    },
    {
      "cell_type": "code",
      "execution_count": 42,
      "metadata": {
        "id": "4cBeOYScp0HZ"
      },
      "outputs": [],
      "source": [
        "# подготовим данные\n",
        "train_x = list(train.question)\n",
        "train_y = list(train.target)\n",
        "\n",
        "valid_x = list(valid.question)\n",
        "valid_y = list(valid.target)"
      ]
    },
    {
      "cell_type": "code",
      "execution_count": 43,
      "metadata": {
        "id": "opHf1NUCp0HZ"
      },
      "outputs": [],
      "source": [
        "train_dataset = TextClassificationDataset(texts=list(train.question), targets=list(train.target))"
      ]
    },
    {
      "cell_type": "code",
      "execution_count": 44,
      "metadata": {
        "id": "YPeFjIsOp0HZ"
      },
      "outputs": [],
      "source": [
        "# семплируем данные\n",
        "text, target = train_dataset[0]"
      ]
    },
    {
      "cell_type": "code",
      "execution_count": 45,
      "metadata": {
        "id": "9kFX2-8Rp0HZ",
        "colab": {
          "base_uri": "https://localhost:8080/",
          "height": 52
        },
        "outputId": "543e1697-bf50-440b-ff90-3ece55ffcb80"
      },
      "outputs": [
        {
          "output_type": "execute_result",
          "data": {
            "text/plain": [
              "\"are the filters reuseable? i'm not sure i want to replace with new filters and have to throw out filters frequently.\""
            ],
            "application/vnd.google.colaboratory.intrinsic+json": {
              "type": "string"
            }
          },
          "metadata": {},
          "execution_count": 45
        }
      ],
      "source": [
        "text"
      ]
    },
    {
      "cell_type": "code",
      "execution_count": 46,
      "metadata": {
        "id": "vLfpktO8p0HZ",
        "colab": {
          "base_uri": "https://localhost:8080/"
        },
        "outputId": "af96e2d6-b7e8-4b63-bbeb-8dbe6aeecdca"
      },
      "outputs": [
        {
          "output_type": "execute_result",
          "data": {
            "text/plain": [
              "5"
            ]
          },
          "metadata": {},
          "execution_count": 46
        }
      ],
      "source": [
        "target"
      ]
    },
    {
      "cell_type": "markdown",
      "metadata": {
        "id": "OVr42ap7p0HZ"
      },
      "source": [
        "### Смысл обработчика\n",
        "Состоит в том, что нам нужно преобразовать наши данные в формат, который мы уже сможем передать в модель.\n",
        "Сейчас у нас строки, а торч ничего не знает про строки, ему нужны тензоры."
      ]
    },
    {
      "cell_type": "markdown",
      "metadata": {
        "id": "EjVxlmfPp0HZ"
      },
      "source": [
        "### Загружаем эмбеддинги\n",
        "Чтобы работать с текстовыми данными мы можем разбить наши строки на слова, а слова перевести в вектора. Откуда нам взять эти вектора?\n",
        "Мы говорили про такой метод как word2vec и в начале этой тетрадки загружали файл с этими самыми векторами."
      ]
    },
    {
      "cell_type": "code",
      "execution_count": 47,
      "metadata": {
        "id": "e2R1WhlTp0HZ"
      },
      "outputs": [],
      "source": [
        "import zipfile\n",
        "import numpy as np\n",
        "\n",
        "from tqdm import tqdm"
      ]
    },
    {
      "cell_type": "code",
      "execution_count": 48,
      "metadata": {
        "id": "iYrw35whp0HZ"
      },
      "outputs": [],
      "source": [
        "def load_embeddings(zip_path, filename, pad_token='PAD', max_words=100_000, verbose=True):\n",
        "\n",
        "    vocab = dict()\n",
        "    embeddings = list()\n",
        "\n",
        "    with zipfile.ZipFile(zip_path) as zipped_file:\n",
        "        with zipped_file.open(filename) as file_object:\n",
        "\n",
        "            vocab_size, embedding_dim = file_object.readline().decode('utf-8').strip().split()\n",
        "\n",
        "            vocab_size = int(vocab_size)\n",
        "            embedding_dim = int(embedding_dim)\n",
        "\n",
        "            # в файле 1 000 000 слов с векторами, давайте ограничим для простоты этот словарь\n",
        "            max_words = vocab_size if max_words <= 0 else max_words\n",
        "\n",
        "            # добавим пад токен и эмбеддинг в нашу матрицу эмбеддингов и словарь\n",
        "            vocab[pad_token] = len(vocab)\n",
        "            embeddings.append(np.zeros(embedding_dim))\n",
        "\n",
        "            progress_bar = tqdm(total=max_words, disable=not verbose)\n",
        "\n",
        "            for line in file_object:\n",
        "                parts = line.decode('utf-8').strip().split()\n",
        "\n",
        "                token = ' '.join(parts[:-embedding_dim]).lower()\n",
        "\n",
        "                if token in vocab:\n",
        "                    continue\n",
        "\n",
        "                word_vector = np.array(list(map(float, parts[-embedding_dim:])))\n",
        "\n",
        "                vocab[token] = len(vocab)\n",
        "                embeddings.append(word_vector)\n",
        "\n",
        "                progress_bar.update()\n",
        "\n",
        "                if len(vocab) == max_words:\n",
        "                    break\n",
        "\n",
        "            progress_bar.close()\n",
        "\n",
        "    embeddings = np.stack(embeddings)\n",
        "\n",
        "    return vocab, embeddings"
      ]
    },
    {
      "cell_type": "code",
      "execution_count": 49,
      "metadata": {
        "id": "6Y3U3W_Mp0Ha",
        "scrolled": true,
        "colab": {
          "base_uri": "https://localhost:8080/"
        },
        "outputId": "f5903614-8922-48ee-d2ef-82d57992e795"
      },
      "outputs": [
        {
          "output_type": "stream",
          "name": "stderr",
          "text": [
            "100%|█████████▉| 99999/100000 [00:11<00:00, 8654.74it/s] \n"
          ]
        }
      ],
      "source": [
        "vocab, embeddings = load_embeddings('/content/wiki-news-300d-1M.vec.zip', 'wiki-news-300d-1M.vec', max_words=100_000)"
      ]
    },
    {
      "cell_type": "markdown",
      "metadata": {
        "id": "fa5fZUAgp0Ha"
      },
      "source": [
        "### Посмотрим на ближайших соседей слова по эмбеддингам"
      ]
    },
    {
      "cell_type": "code",
      "execution_count": 50,
      "metadata": {
        "id": "ZLJozhsqp0Ha"
      },
      "outputs": [],
      "source": [
        "index2token = {index: token for token, index in vocab.items()}"
      ]
    },
    {
      "cell_type": "code",
      "execution_count": 51,
      "metadata": {
        "id": "nGnZAB57p0Ha"
      },
      "outputs": [],
      "source": [
        "emb_norms = np.linalg.norm(embeddings, axis=1)"
      ]
    },
    {
      "cell_type": "code",
      "execution_count": 52,
      "metadata": {
        "id": "njZRsqbOp0Ha"
      },
      "outputs": [],
      "source": [
        "def get_k_nearest_neighbors(word, embeddings, emb_norms, vocab, index2token, k=5):\n",
        "\n",
        "    if word not in vocab:\n",
        "        print('Not in vocab')\n",
        "        return\n",
        "\n",
        "    word_index = vocab[word]\n",
        "\n",
        "    word_vector = embeddings[word_index]\n",
        "    word_vector = np.expand_dims(word_vector, 0)\n",
        "\n",
        "    scores = (word_vector @ embeddings.T)[0]\n",
        "\n",
        "    # переводим в косинусы, поделив на нормы векторов\n",
        "    # эпсилон 1e-6 для того, чтобы не делить на 0\n",
        "    scores = scores / (emb_norms + 1e-6) / emb_norms[word_index]\n",
        "\n",
        "    # 1:k+1 потому что первый вариант это само слово\n",
        "    for idx in scores.argsort()[::-1][1:k+1]:\n",
        "        print(f'Слово {index2token[idx]} близко на {scores[idx]:.2f} к слову {word}')"
      ]
    },
    {
      "cell_type": "code",
      "execution_count": 53,
      "metadata": {
        "id": "ef54bCSOp0Ha",
        "colab": {
          "base_uri": "https://localhost:8080/"
        },
        "outputId": "9f1343a7-7f9a-49c5-a8b1-dcae3c03a48e"
      },
      "outputs": [
        {
          "output_type": "stream",
          "name": "stdout",
          "text": [
            "Слово maria близко на 0.73 к слову anna\n",
            "Слово emma близко на 0.66 к слову anna\n",
            "Слово kristina близко на 0.65 к слову anna\n",
            "Слово laura близко на 0.65 к слову anna\n",
            "Слово emily близко на 0.65 к слову anna\n"
          ]
        }
      ],
      "source": [
        "get_k_nearest_neighbors('anna', embeddings, emb_norms, vocab, index2token)"
      ]
    },
    {
      "cell_type": "code",
      "execution_count": 54,
      "metadata": {
        "id": "MyowgPaKp0Ha",
        "colab": {
          "base_uri": "https://localhost:8080/"
        },
        "outputId": "d62cd3a5-c9af-47f9-c090-185fe8589f61"
      },
      "outputs": [
        {
          "output_type": "stream",
          "name": "stdout",
          "text": [
            "Слово dad близко на 0.85 к слову mom\n",
            "Слово mum близко на 0.78 к слову mom\n",
            "Слово mother близко на 0.76 к слову mom\n",
            "Слово moms близко на 0.75 к слову mom\n",
            "Слово kid близко на 0.68 к слову mom\n"
          ]
        }
      ],
      "source": [
        "get_k_nearest_neighbors('mom', embeddings, emb_norms, vocab, index2token)"
      ]
    },
    {
      "cell_type": "code",
      "execution_count": 55,
      "metadata": {
        "id": "elewn4qQp0Ha",
        "colab": {
          "base_uri": "https://localhost:8080/"
        },
        "outputId": "011e09cf-945f-4e4c-a03e-e0729eef4431"
      },
      "outputs": [
        {
          "output_type": "stream",
          "name": "stdout",
          "text": [
            "Слово has близко на 0.78 к слову have\n",
            "Слово been близко на 0.75 к слову have\n",
            "Слово 've близко на 0.75 к слову have\n",
            "Слово had близко на 0.74 к слову have\n",
            "Слово ahve близко на 0.74 к слову have\n"
          ]
        }
      ],
      "source": [
        "get_k_nearest_neighbors('have', embeddings, emb_norms, vocab, index2token)"
      ]
    },
    {
      "cell_type": "code",
      "execution_count": 56,
      "metadata": {
        "id": "NuOTMg5jp0Hb",
        "colab": {
          "base_uri": "https://localhost:8080/"
        },
        "outputId": "f1adf5f0-ebd4-4745-c55e-6f8bbe793552"
      },
      "outputs": [
        {
          "output_type": "stream",
          "name": "stdout",
          "text": [
            "Слово cash близко на 0.72 к слову money\n",
            "Слово funds близко на 0.72 к слову money\n",
            "Слово monies близко на 0.72 к слову money\n",
            "Слово moneys близко на 0.67 к слову money\n",
            "Слово dosh близко на 0.63 к слову money\n"
          ]
        }
      ],
      "source": [
        "get_k_nearest_neighbors('money', embeddings, emb_norms, vocab, index2token)"
      ]
    },
    {
      "cell_type": "code",
      "execution_count": 57,
      "metadata": {
        "id": "r7tnc8HRp0Hb",
        "colab": {
          "base_uri": "https://localhost:8080/"
        },
        "outputId": "291fb7fe-c878-4062-a1ff-4333f161ab65"
      },
      "outputs": [
        {
          "output_type": "stream",
          "name": "stdout",
          "text": [
            "Слово musical близко на 0.71 к слову music\n",
            "Слово songs близко на 0.69 к слову music\n",
            "Слово tunes близко на 0.69 к слову music\n",
            "Слово musics близко на 0.68 к слову music\n",
            "Слово composer близко на 0.68 к слову music\n"
          ]
        }
      ],
      "source": [
        "get_k_nearest_neighbors('music', embeddings, emb_norms, vocab, index2token)"
      ]
    },
    {
      "cell_type": "markdown",
      "metadata": {
        "id": "KFiMGJaTp0Hb"
      },
      "source": [
        "### Выбор метода токенизации\n",
        "У нас сейчас есть маппинг, что некоторому слову соответствует некоторый эмбеддинг этого слова.\n",
        "Токенизация - процесс разбиения текста на токены, то есть части этого текста.   \n",
        "Чем \"слово\" отличается от \"токена\": токен это более обобщенное понятие, то есть, например, цифра это токен"
      ]
    },
    {
      "cell_type": "code",
      "execution_count": 58,
      "metadata": {
        "id": "IyZsKJP3p0Hb"
      },
      "outputs": [],
      "source": [
        "# про различия подробнее можно найти, например, здесь\n",
        "# https://stackoverflow.com/questions/50240029/nltk-wordpunct-tokenize-vs-word-tokenize\n",
        "from nltk.tokenize import word_tokenize, wordpunct_tokenize"
      ]
    },
    {
      "cell_type": "code",
      "execution_count": 59,
      "metadata": {
        "id": "i9wxJoG4p0Hb",
        "colab": {
          "base_uri": "https://localhost:8080/"
        },
        "outputId": "444b1b44-6b6c-4060-c2cc-11c239829bc8"
      },
      "outputs": [
        {
          "output_type": "stream",
          "name": "stderr",
          "text": [
            "100%|██████████| 250000/250000 [00:01<00:00, 220869.23it/s]"
          ]
        },
        {
          "output_type": "stream",
          "name": "stdout",
          "text": [
            "Мы не знаем 512913 слов из 3608778 слов в датасете\n",
            "Что составляет 14.21% датасета\n",
            "\n",
            "Уникальных неизвестных слов: 118915\n"
          ]
        },
        {
          "output_type": "stream",
          "name": "stderr",
          "text": [
            "\n"
          ]
        }
      ],
      "source": [
        "total_n_words = 0\n",
        "unknown_words = list()\n",
        "\n",
        "for sample in tqdm(train_x):\n",
        "    # токенизация по пробелу\n",
        "    tokens = sample.split()\n",
        "\n",
        "    for tok in tokens:\n",
        "        # проверяем есть ли токен в нашем словаре\n",
        "        if tok not in vocab:\n",
        "            unknown_words.append(tok)\n",
        "\n",
        "        total_n_words += 1\n",
        "\n",
        "print(f'Мы не знаем {len(unknown_words)} слов из {total_n_words} слов в датасете')\n",
        "print(f'Что составляет {len(unknown_words) * 100 / total_n_words:.2f}% датасета')\n",
        "print()\n",
        "print(f'Уникальных неизвестных слов: {len(set(unknown_words))}')"
      ]
    },
    {
      "cell_type": "code",
      "execution_count": 60,
      "metadata": {
        "id": "Kec5NFJ9p0Hb",
        "colab": {
          "base_uri": "https://localhost:8080/"
        },
        "outputId": "f1b80548-9ab1-4dcd-f53d-6667258687b1"
      },
      "outputs": [
        {
          "output_type": "stream",
          "name": "stderr",
          "text": [
            "100%|██████████| 250000/250000 [00:02<00:00, 99746.01it/s] "
          ]
        },
        {
          "output_type": "stream",
          "name": "stdout",
          "text": [
            "Мы не знаем 110997 слов из 4206432 слов в датасете\n",
            "Что составляет 2.64% датасета\n",
            "\n",
            "Уникальных неизвестных слов: 36054\n"
          ]
        },
        {
          "output_type": "stream",
          "name": "stderr",
          "text": [
            "\n"
          ]
        }
      ],
      "source": [
        "total_n_words = 0\n",
        "unknown_words = list()\n",
        "\n",
        "for sample in tqdm(train_x):\n",
        "    # токенизация\n",
        "    tokens = wordpunct_tokenize(sample)\n",
        "\n",
        "    for tok in tokens:\n",
        "        # проверяем есть ли токен в нашем словаре\n",
        "        if tok not in vocab:\n",
        "            unknown_words.append(tok)\n",
        "\n",
        "        total_n_words += 1\n",
        "\n",
        "print(f'Мы не знаем {len(unknown_words)} слов из {total_n_words} слов в датасете')\n",
        "print(f'Что составляет {len(unknown_words) * 100 / total_n_words:.2f}% датасета')\n",
        "print()\n",
        "print(f'Уникальных неизвестных слов: {len(set(unknown_words))}')"
      ]
    },
    {
      "cell_type": "code",
      "source": [
        "import nltk\n",
        "nltk.download('punkt')"
      ],
      "metadata": {
        "colab": {
          "base_uri": "https://localhost:8080/"
        },
        "id": "cLh8ZMZRgTg6",
        "outputId": "56e25078-e9e9-46f6-991d-1a7b26395423"
      },
      "execution_count": 62,
      "outputs": [
        {
          "output_type": "stream",
          "name": "stderr",
          "text": [
            "[nltk_data] Downloading package punkt to /root/nltk_data...\n",
            "[nltk_data]   Unzipping tokenizers/punkt.zip.\n"
          ]
        },
        {
          "output_type": "execute_result",
          "data": {
            "text/plain": [
              "True"
            ]
          },
          "metadata": {},
          "execution_count": 62
        }
      ]
    },
    {
      "cell_type": "code",
      "execution_count": 63,
      "metadata": {
        "id": "E-di5Ahpp0Hb",
        "colab": {
          "base_uri": "https://localhost:8080/"
        },
        "outputId": "ca6b1946-b3a7-4e08-e01b-5c9eea5f7030"
      },
      "outputs": [
        {
          "output_type": "stream",
          "name": "stderr",
          "text": [
            "100%|██████████| 250000/250000 [00:52<00:00, 4735.22it/s]"
          ]
        },
        {
          "output_type": "stream",
          "name": "stdout",
          "text": [
            "Мы не знаем 148708 слов из 4110270 слов в датасете\n",
            "Что составляет 3.62% датасета\n",
            "\n",
            "Уникальных неизвестных слов: 52504\n"
          ]
        },
        {
          "output_type": "stream",
          "name": "stderr",
          "text": [
            "\n"
          ]
        }
      ],
      "source": [
        "total_n_words = 0\n",
        "unknown_words = list()\n",
        "\n",
        "for sample in tqdm(train_x):\n",
        "    # токенизация\n",
        "    tokens = word_tokenize(sample)\n",
        "\n",
        "    for tok in tokens:\n",
        "        # проверяем есть ли токен в нашем словаре\n",
        "        if tok not in vocab:\n",
        "            unknown_words.append(tok)\n",
        "\n",
        "        total_n_words += 1\n",
        "\n",
        "print(f'Мы не знаем {len(unknown_words)} слов из {total_n_words} слов в датасете')\n",
        "print(f'Что составляет {len(unknown_words) * 100 / total_n_words:.2f}% датасета')\n",
        "print()\n",
        "print(f'Уникальных неизвестных слов: {len(set(unknown_words))}')"
      ]
    },
    {
      "cell_type": "markdown",
      "metadata": {
        "id": "r48Bee3xp0Hb"
      },
      "source": [
        "### Результаты\n",
        "- Скорость у word_tokenize сильно ниже, чем у wordpunct_tokenize\n",
        "- Используя word_tokenize, мы теряем примерно 1% информации из датасета по сравнению с wordpunct_tokenize\n",
        "\n",
        "### Выбор очевиден в сторону wordpunct_tokenize"
      ]
    },
    {
      "cell_type": "code",
      "execution_count": 64,
      "metadata": {
        "id": "IoTdio7np0Hb"
      },
      "outputs": [],
      "source": [
        "class TextClassificationDataset(Dataset):\n",
        "\n",
        "    def __init__(self, texts, targets, vocab):\n",
        "        super().__init__()\n",
        "\n",
        "        self.texts = texts\n",
        "        self.targets = targets\n",
        "        self.vocab = vocab\n",
        "\n",
        "    def __len__(self):\n",
        "        return len(self.texts)\n",
        "\n",
        "    def tokenization(self, text):\n",
        "\n",
        "        tokens = wordpunct_tokenize(text)\n",
        "\n",
        "        token_indices = [self.vocab[tok] for tok in tokens if tok in self.vocab]\n",
        "\n",
        "        return token_indices\n",
        "\n",
        "    def __getitem__(self, index):\n",
        "\n",
        "        text = self.texts[index]\n",
        "        target = self.targets[index]\n",
        "\n",
        "        tokenized_text = self.tokenization(text)\n",
        "\n",
        "        # переведем наши индексы токенов в торчовый тензор\n",
        "        # таргет переведется самостоятельно\n",
        "        tokenized_text = torch.tensor(tokenized_text)\n",
        "\n",
        "        return tokenized_text, target"
      ]
    },
    {
      "cell_type": "code",
      "execution_count": 65,
      "metadata": {
        "id": "Hqw8crhyp0Hc"
      },
      "outputs": [],
      "source": [
        "train_dataset = TextClassificationDataset(texts=train_x, targets=train_y, vocab=vocab)"
      ]
    },
    {
      "cell_type": "code",
      "execution_count": 66,
      "metadata": {
        "id": "pmhSWQAnp0Hc"
      },
      "outputs": [],
      "source": [
        "x, y = train_dataset[5]"
      ]
    },
    {
      "cell_type": "code",
      "execution_count": 67,
      "metadata": {
        "id": "jLVMXlD5p0Hc",
        "colab": {
          "base_uri": "https://localhost:8080/"
        },
        "outputId": "53816530-50c5-4c26-d4ca-f09f9046888e"
      },
      "outputs": [
        {
          "output_type": "execute_result",
          "data": {
            "text/plain": [
              "tensor([   28,    36,     8,   252, 17886,   386,   460,  1460,  6291,  3691,\n",
              "           67,    14,  7763,     6,    42,  7045,   586,    53,    14, 34995,\n",
              "           31, 11336,  3018,    57,    81,    29,  1663,     7,    42, 11336])"
            ]
          },
          "metadata": {},
          "execution_count": 67
        }
      ],
      "source": [
        "x"
      ]
    },
    {
      "cell_type": "code",
      "execution_count": 68,
      "metadata": {
        "id": "gFOB_xrWp0Hc",
        "colab": {
          "base_uri": "https://localhost:8080/"
        },
        "outputId": "76453e2f-af38-48b9-f238-2824a91dbaf6"
      },
      "outputs": [
        {
          "output_type": "execute_result",
          "data": {
            "text/plain": [
              "5"
            ]
          },
          "metadata": {},
          "execution_count": 68
        }
      ],
      "source": [
        "y"
      ]
    },
    {
      "cell_type": "code",
      "execution_count": 69,
      "metadata": {
        "id": "BsV-Hvfmp0Hc",
        "colab": {
          "base_uri": "https://localhost:8080/"
        },
        "outputId": "d455dc5e-14f8-4163-d2f6-bcf81dcf8bd3"
      },
      "outputs": [
        {
          "output_type": "execute_result",
          "data": {
            "text/plain": [
              "['i',\n",
              " 'have',\n",
              " 'a',\n",
              " '5',\n",
              " 'yr',\n",
              " 'old',\n",
              " 'full',\n",
              " 'blood',\n",
              " 'chocolate',\n",
              " 'lab',\n",
              " 'who',\n",
              " 'is',\n",
              " 'destructive',\n",
              " 'to',\n",
              " 'his',\n",
              " 'beds',\n",
              " '..',\n",
              " 'he',\n",
              " 'is',\n",
              " 'crate',\n",
              " '/',\n",
              " 'cage',\n",
              " 'trained',\n",
              " 'so',\n",
              " 'would',\n",
              " 'this',\n",
              " 'fit',\n",
              " 'in',\n",
              " 'his',\n",
              " 'cage']"
            ]
          },
          "metadata": {},
          "execution_count": 69
        }
      ],
      "source": [
        "# мы можем восстановить текст обратно по индексам слов\n",
        "[index2token[idx.item()] for idx in x]"
      ]
    },
    {
      "cell_type": "markdown",
      "metadata": {
        "id": "5emZf5gKp0Hc"
      },
      "source": [
        "### У нас остается проблема разных длин текстов\n",
        "Чтобы поместить батч текстов в один тензор нам нужны одинаковые длины"
      ]
    },
    {
      "cell_type": "code",
      "execution_count": null,
      "metadata": {
        "id": "FoGLGVHPp0Hc"
      },
      "outputs": [],
      "source": [
        "## это не отработает, можете раскомментировать и проверить\n",
        "\n",
        "# x = [\n",
        "#     [1, 2, 3],\n",
        "#     [1, 2, 3, 4, 5],\n",
        "#     [1, 2, 3, 4, 5, 6, 7]\n",
        "# ]\n",
        "\n",
        "# torch.tensor(x), torch.tensor(x).shape"
      ]
    },
    {
      "cell_type": "code",
      "execution_count": 70,
      "metadata": {
        "id": "PqvHRgpFp0Hc",
        "colab": {
          "base_uri": "https://localhost:8080/"
        },
        "outputId": "92c891ec-2d65-4d86-9eb3-99b87895acdc"
      },
      "outputs": [
        {
          "output_type": "execute_result",
          "data": {
            "text/plain": [
              "(tensor([[1, 2, 3, 0, 0, 0, 0],\n",
              "         [1, 2, 3, 4, 5, 0, 0],\n",
              "         [1, 2, 3, 4, 5, 6, 7]]),\n",
              " torch.Size([3, 7]))"
            ]
          },
          "metadata": {},
          "execution_count": 70
        }
      ],
      "source": [
        "# это сработает\n",
        "\n",
        "x = [\n",
        "    [1, 2, 3, 0, 0, 0, 0],\n",
        "    [1, 2, 3, 4, 5, 0, 0],\n",
        "    [1, 2, 3, 4, 5, 6, 7]\n",
        "]\n",
        "\n",
        "torch.tensor(x), torch.tensor(x).shape"
      ]
    },
    {
      "cell_type": "markdown",
      "metadata": {
        "id": "bVpPMw2Ap0Hd"
      },
      "source": [
        "### Длина текста\n",
        "Нам нужно понять до какой длины нам падить каждый наш пример.\n",
        "Мы можем найти в наших данных максимальную длину примера в токенах и падить до этой длины, но у этого подхода есть минус:\n",
        "у нас могут быть несколько текстов с аномально большой длиной, то есть некоторые выбросы.  \n",
        "\n",
        "В таком случае нам легче ограничить длину этих текстов до определенной статистики по нашему датасет, то есть, например, 95% наших текстов\n",
        "длиной в 25 слов и нам этого достаточно. То есть мы ограничимся этой длиной, потому что почти весь датасет влезает в эту длину\n",
        "и нам не нужно будет падить до большой длины.\n",
        "\n",
        "Паддинг нужен нам для того, чтобы мы могли поместить разные примеры в один батч, но мы не хотим учитывать эти токены, то есть\n",
        "по сути это будут холостые прогоны и за счет этого компромисса, что бОльшая часть датасета не больше n слов мы можем оптимизировать\n",
        "наше обучение.\n",
        "\n",
        "<br>\n",
        "\n",
        "\n",
        "> Почему бы нам просто не выкинуть эти длинные тексты?\n",
        "\n",
        "Дело в том, что мы хотим прийти к некоторому компромиссу между максимальной длиной и потерей информации. Если мы возьмем 95-й перцинтиль наших длин (то есть 95% наших текстов не больше n), то, выкинув остальные 5%, мы потеряем существенную часть примеров.\n",
        "С другой стороны может показаться неправильным ограничение длины и это действительно может сломать смысл примеры, но зачастую этим\n",
        "принебрегают."
      ]
    },
    {
      "cell_type": "code",
      "execution_count": 71,
      "metadata": {
        "id": "BiOz4F1Rp0Hd",
        "colab": {
          "base_uri": "https://localhost:8080/"
        },
        "outputId": "5b9036ad-c874-4935-90e7-fc83b8e02af2"
      },
      "outputs": [
        {
          "output_type": "stream",
          "name": "stderr",
          "text": [
            "100%|██████████| 250000/250000 [00:01<00:00, 145798.57it/s]\n"
          ]
        }
      ],
      "source": [
        "train_lengths = [len(wordpunct_tokenize(sample)) for sample in tqdm(train_x)]"
      ]
    },
    {
      "cell_type": "code",
      "execution_count": 72,
      "metadata": {
        "id": "q3hU1Q08p0Hd",
        "colab": {
          "base_uri": "https://localhost:8080/",
          "height": 634
        },
        "outputId": "acd8129d-ed79-432f-9da1-4cbb177ab430"
      },
      "outputs": [
        {
          "output_type": "stream",
          "name": "stderr",
          "text": [
            "<ipython-input-72-6fda2ba84acf>:1: UserWarning: \n",
            "\n",
            "`distplot` is a deprecated function and will be removed in seaborn v0.14.0.\n",
            "\n",
            "Please adapt your code to use either `displot` (a figure-level function with\n",
            "similar flexibility) or `histplot` (an axes-level function for histograms).\n",
            "\n",
            "For a guide to updating your code to use the new functions, please see\n",
            "https://gist.github.com/mwaskom/de44147ed2974457ad6372750bbe5751\n",
            "\n",
            "  sns.distplot(train_lengths)\n"
          ]
        },
        {
          "output_type": "execute_result",
          "data": {
            "text/plain": [
              "<Axes: ylabel='Density'>"
            ]
          },
          "metadata": {},
          "execution_count": 72
        },
        {
          "output_type": "display_data",
          "data": {
            "text/plain": [
              "<Figure size 640x480 with 1 Axes>"
            ],
            "image/png": "[encoded data removed]"
          },
          "metadata": {}
        }
      ],
      "source": [
        "sns.distplot(train_lengths)"
      ]
    },
    {
      "cell_type": "code",
      "execution_count": 73,
      "metadata": {
        "id": "eBh49mEWp0Hd",
        "colab": {
          "base_uri": "https://localhost:8080/"
        },
        "outputId": "e9f164de-5896-45a7-ddf4-31b16abc2ab9"
      },
      "outputs": [
        {
          "output_type": "execute_result",
          "data": {
            "text/plain": [
              "34.0"
            ]
          },
          "metadata": {},
          "execution_count": 73
        }
      ],
      "source": [
        "# видим большие выбросы в данных\n",
        "# 97% наших текстов не больше вот стольки токенов\n",
        "np.percentile(train_lengths, 95)"
      ]
    },
    {
      "cell_type": "code",
      "execution_count": 74,
      "metadata": {
        "id": "I9iyFrUqp0Hd"
      },
      "outputs": [],
      "source": [
        "class TextClassificationDataset(Dataset):\n",
        "\n",
        "    def __init__(self, texts, targets, vocab, pad_index=0, max_length=32):\n",
        "        super().__init__()\n",
        "\n",
        "        self.texts = texts\n",
        "        self.targets = targets\n",
        "        self.vocab = vocab\n",
        "\n",
        "        self.pad_index = pad_index\n",
        "        self.max_length = max_length\n",
        "\n",
        "    def __len__(self):\n",
        "        return len(self.texts)\n",
        "\n",
        "    def tokenization(self, text):\n",
        "\n",
        "        tokens = wordpunct_tokenize(text)\n",
        "\n",
        "        token_indices = [self.vocab[tok] for tok in tokens if tok in self.vocab]\n",
        "\n",
        "        return token_indices\n",
        "\n",
        "    def padding(self, tokenized_text):\n",
        "\n",
        "        tokenized_text = tokenized_text[:self.max_length]\n",
        "\n",
        "        tokenized_text += [self.pad_index] * (self.max_length - len(tokenized_text))\n",
        "\n",
        "        return tokenized_text\n",
        "\n",
        "    def __getitem__(self, index):\n",
        "\n",
        "        text = self.texts[index]\n",
        "        target = self.targets[index]\n",
        "\n",
        "        tokenized_text = self.tokenization(text)\n",
        "        tokenized_text = self.padding(tokenized_text)\n",
        "\n",
        "        tokenized_text = torch.tensor(tokenized_text)\n",
        "\n",
        "        return tokenized_text, target"
      ]
    },
    {
      "cell_type": "code",
      "execution_count": 75,
      "metadata": {
        "id": "J5FwsK_Pp0Hd"
      },
      "outputs": [],
      "source": [
        "train_dataset = TextClassificationDataset(texts=train_x, targets=train_y, vocab=vocab)"
      ]
    },
    {
      "cell_type": "code",
      "execution_count": 76,
      "metadata": {
        "id": "wPxc8vN3p0Hd",
        "colab": {
          "base_uri": "https://localhost:8080/"
        },
        "outputId": "876f6664-7157-479f-e3f6-09839bf63e9b"
      },
      "outputs": [
        {
          "output_type": "execute_result",
          "data": {
            "text/plain": [
              "tensor([  32,    2, 7825,   37,   28,   23, 1750,   34,  548,   28,  383,    6,\n",
              "        2842,   18,  106, 7825,    4,   36,    6, 4001,   93, 7825, 1967,    3,\n",
              "           0,    0,    0,    0,    0,    0,    0,    0])"
            ]
          },
          "metadata": {},
          "execution_count": 76
        }
      ],
      "source": [
        "x, y = train_dataset[0]\n",
        "x"
      ]
    },
    {
      "cell_type": "code",
      "execution_count": 77,
      "metadata": {
        "id": "ueIkgVZ3p0Hd",
        "colab": {
          "base_uri": "https://localhost:8080/"
        },
        "outputId": "303b1145-a7ee-4535-8120-e9a263deff81"
      },
      "outputs": [
        {
          "output_type": "execute_result",
          "data": {
            "text/plain": [
              "['are',\n",
              " 'the',\n",
              " 'filters',\n",
              " '?',\n",
              " 'i',\n",
              " \"'\",\n",
              " 'm',\n",
              " 'not',\n",
              " 'sure',\n",
              " 'i',\n",
              " 'want',\n",
              " 'to',\n",
              " 'replace',\n",
              " 'with',\n",
              " 'new',\n",
              " 'filters',\n",
              " 'and',\n",
              " 'have',\n",
              " 'to',\n",
              " 'throw',\n",
              " 'out',\n",
              " 'filters',\n",
              " 'frequently',\n",
              " '.',\n",
              " 'PAD',\n",
              " 'PAD',\n",
              " 'PAD',\n",
              " 'PAD',\n",
              " 'PAD',\n",
              " 'PAD',\n",
              " 'PAD',\n",
              " 'PAD']"
            ]
          },
          "metadata": {},
          "execution_count": 77
        }
      ],
      "source": [
        "[index2token[idx.item()] for idx in x]"
      ]
    },
    {
      "cell_type": "code",
      "execution_count": 78,
      "metadata": {
        "id": "s1k6FFClp0Hd"
      },
      "outputs": [],
      "source": [
        "train_dataset = TextClassificationDataset(texts=train_x, targets=train_y, vocab=vocab)\n",
        "valid_dataset = TextClassificationDataset(texts=valid_x, targets=valid_y, vocab=vocab)\n",
        "\n",
        "train_loader = DataLoader(train_dataset, batch_size=128)\n",
        "valid_loader = DataLoader(valid_dataset, batch_size=128)"
      ]
    },
    {
      "cell_type": "code",
      "execution_count": 79,
      "metadata": {
        "id": "zVpxSMlVp0Hd"
      },
      "outputs": [],
      "source": [
        "for x, y in train_loader:\n",
        "    break"
      ]
    },
    {
      "cell_type": "code",
      "execution_count": 80,
      "metadata": {
        "id": "tDskKhd-p0He",
        "colab": {
          "base_uri": "https://localhost:8080/"
        },
        "outputId": "4fa66472-c712-43fd-80d8-191e201fa3d0"
      },
      "outputs": [
        {
          "output_type": "execute_result",
          "data": {
            "text/plain": [
              "(torch.Size([128, 32]), torch.Size([128]))"
            ]
          },
          "metadata": {},
          "execution_count": 80
        }
      ],
      "source": [
        "x.shape, y.shape"
      ]
    },
    {
      "cell_type": "markdown",
      "metadata": {
        "id": "OD96riGMp0He"
      },
      "source": [
        "### Как мы можем задавать слои"
      ]
    },
    {
      "cell_type": "code",
      "execution_count": 81,
      "metadata": {
        "id": "qlOx4noop0He"
      },
      "outputs": [],
      "source": [
        "from torch import nn"
      ]
    },
    {
      "cell_type": "code",
      "execution_count": 82,
      "metadata": {
        "id": "So1HsX_qp0He"
      },
      "outputs": [],
      "source": [
        "embedding_layer = nn.Embedding(num_embeddings=len(vocab),\n",
        "                               embedding_dim=embeddings.shape[-1],\n",
        "                               padding_idx=0)"
      ]
    },
    {
      "cell_type": "code",
      "execution_count": 83,
      "metadata": {
        "id": "32CjrOlep0He"
      },
      "outputs": [],
      "source": [
        "x_embed = embedding_layer(x)"
      ]
    },
    {
      "cell_type": "code",
      "execution_count": 84,
      "metadata": {
        "id": "X7PJwiS9p0He",
        "colab": {
          "base_uri": "https://localhost:8080/"
        },
        "outputId": "dc8f61a2-a1d8-4e44-94ae-348c2054c806"
      },
      "outputs": [
        {
          "output_type": "execute_result",
          "data": {
            "text/plain": [
              "tensor([[[ 0.3990,  2.0343,  0.8458,  ...,  2.6843, -0.9754, -0.2186],\n",
              "         [ 0.6628,  0.1396, -1.5942,  ...,  0.2245, -1.1631,  0.8478],\n",
              "         [-0.9575, -0.2541,  1.0441,  ..., -0.7762,  0.8912,  0.8319],\n",
              "         ...,\n",
              "         [ 0.0000,  0.0000,  0.0000,  ...,  0.0000,  0.0000,  0.0000],\n",
              "         [ 0.0000,  0.0000,  0.0000,  ...,  0.0000,  0.0000,  0.0000],\n",
              "         [ 0.0000,  0.0000,  0.0000,  ...,  0.0000,  0.0000,  0.0000]],\n",
              "\n",
              "        [[ 0.5090,  1.1398, -1.3063,  ..., -0.3240,  1.9764,  1.1135],\n",
              "         [-1.0142,  1.2253, -0.5328,  ...,  0.2088,  0.9949,  0.7936],\n",
              "         [-1.4308,  0.0331,  2.9958,  ...,  0.3234, -1.0332, -1.1682],\n",
              "         ...,\n",
              "         [ 0.0000,  0.0000,  0.0000,  ...,  0.0000,  0.0000,  0.0000],\n",
              "         [ 0.0000,  0.0000,  0.0000,  ...,  0.0000,  0.0000,  0.0000],\n",
              "         [ 0.0000,  0.0000,  0.0000,  ...,  0.0000,  0.0000,  0.0000]],\n",
              "\n",
              "        [[-0.0169, -0.3396, -0.0844,  ..., -1.1962,  0.2051,  0.0782],\n",
              "         [ 1.2218,  0.2403, -0.8048,  ..., -0.6772, -0.2947,  0.4422],\n",
              "         [-1.3134, -0.8292,  0.3163,  ...,  1.1643, -0.8889, -0.6952],\n",
              "         ...,\n",
              "         [ 0.0000,  0.0000,  0.0000,  ...,  0.0000,  0.0000,  0.0000],\n",
              "         [ 0.0000,  0.0000,  0.0000,  ...,  0.0000,  0.0000,  0.0000],\n",
              "         [ 0.0000,  0.0000,  0.0000,  ...,  0.0000,  0.0000,  0.0000]],\n",
              "\n",
              "        ...,\n",
              "\n",
              "        [[-0.7551,  0.0252, -0.9875,  ...,  0.7932, -1.2643, -0.8784],\n",
              "         [ 0.1329,  0.2996, -0.6003,  ...,  0.5331,  0.8593,  0.6768],\n",
              "         [-0.1365, -1.1905, -0.3500,  ..., -0.8511,  0.7837, -2.0941],\n",
              "         ...,\n",
              "         [ 0.8873,  0.3944,  0.5578,  ...,  0.1439, -1.8507, -0.7820],\n",
              "         [ 0.6442, -0.4135,  1.1767,  ...,  0.5358, -0.5148, -0.3380],\n",
              "         [-0.6284, -0.2799, -0.6378,  ..., -0.7128, -1.1153, -0.7773]],\n",
              "\n",
              "        [[-0.4717, -1.1043,  1.5195,  ...,  1.1116, -1.5261, -1.0185],\n",
              "         [-0.0654,  0.3063,  0.8386,  ...,  0.2792,  0.2180, -1.7952],\n",
              "         [ 0.8696, -0.0391,  0.4583,  ..., -1.2516, -0.0143,  0.2710],\n",
              "         ...,\n",
              "         [ 0.0000,  0.0000,  0.0000,  ...,  0.0000,  0.0000,  0.0000],\n",
              "         [ 0.0000,  0.0000,  0.0000,  ...,  0.0000,  0.0000,  0.0000],\n",
              "         [ 0.0000,  0.0000,  0.0000,  ...,  0.0000,  0.0000,  0.0000]],\n",
              "\n",
              "        [[ 1.0523, -0.5135,  1.0610,  ..., -0.3040,  0.3268,  0.2431],\n",
              "         [-0.7551,  0.0252, -0.9875,  ...,  0.7932, -1.2643, -0.8784],\n",
              "         [ 0.6628,  0.1396, -1.5942,  ...,  0.2245, -1.1631,  0.8478],\n",
              "         ...,\n",
              "         [ 0.0000,  0.0000,  0.0000,  ...,  0.0000,  0.0000,  0.0000],\n",
              "         [ 0.0000,  0.0000,  0.0000,  ...,  0.0000,  0.0000,  0.0000],\n",
              "         [ 0.0000,  0.0000,  0.0000,  ...,  0.0000,  0.0000,  0.0000]]],\n",
              "       grad_fn=<EmbeddingBackward0>)"
            ]
          },
          "metadata": {},
          "execution_count": 84
        }
      ],
      "source": [
        "x_embed"
      ]
    },
    {
      "cell_type": "code",
      "execution_count": 85,
      "metadata": {
        "id": "5Q2-JF08p0He",
        "colab": {
          "base_uri": "https://localhost:8080/"
        },
        "outputId": "4fecae49-4ea0-4473-9cef-65b796a85c2a"
      },
      "outputs": [
        {
          "output_type": "execute_result",
          "data": {
            "text/plain": [
              "torch.Size([128, 32, 300])"
            ]
          },
          "metadata": {},
          "execution_count": 85
        }
      ],
      "source": [
        "x_embed.shape"
      ]
    },
    {
      "cell_type": "markdown",
      "metadata": {
        "id": "4e1pd_Qep0He"
      },
      "source": [
        "### Но мы ведь прочитали нашу матрицу эмбеддингов\n",
        "Таким образом она инициализируется предобученными весами.  \n",
        "При такой инициализации по умолчанию она замораживается, внутри ```.from_pretrained(embeddings, padding_idx=0)``` есть флаг ```freeze```, который отвечает за необходимость заморозки весов. То есть эти веса в процессе обучения не будут обновляться."
      ]
    },
    {
      "cell_type": "code",
      "execution_count": 86,
      "metadata": {
        "id": "znxoHgLVp0He"
      },
      "outputs": [],
      "source": [
        "embeddings = torch.tensor(embeddings).float()"
      ]
    },
    {
      "cell_type": "code",
      "execution_count": 87,
      "metadata": {
        "id": "WiiLUx0rp0He"
      },
      "outputs": [],
      "source": [
        "embedding_layer = nn.Embedding.from_pretrained(embeddings, padding_idx=0)"
      ]
    },
    {
      "cell_type": "code",
      "execution_count": 88,
      "metadata": {
        "id": "dQFxez0Xp0He"
      },
      "outputs": [],
      "source": [
        "x_embed = embedding_layer(x)"
      ]
    },
    {
      "cell_type": "markdown",
      "metadata": {
        "id": "WaGyaaDsp0Hf"
      },
      "source": [
        "### Немного LSTM\n",
        "Ниже будет про ```batch_first=True```"
      ]
    },
    {
      "cell_type": "code",
      "execution_count": null,
      "metadata": {
        "id": "acLF3I9Ip0Hf"
      },
      "outputs": [],
      "source": [
        "lstm = nn.LSTM(input_size=300, hidden_size=128, num_layers=2, batch_first=True, dropout=0.3, bidirectional=True)"
      ]
    },
    {
      "cell_type": "code",
      "execution_count": null,
      "metadata": {
        "id": "D0GMGrzrp0Hf"
      },
      "outputs": [],
      "source": [
        "x_lstm, _ = lstm(x_embed)"
      ]
    },
    {
      "cell_type": "code",
      "execution_count": null,
      "metadata": {
        "id": "9T9Gui8-p0Hf"
      },
      "outputs": [],
      "source": [
        "# 256 потому что это конкатенация лстмки, которая прочитала текст слева направо\n",
        "# и лстмки, которая прочитала текст справа налево\n",
        "x_lstm.shape"
      ]
    },
    {
      "cell_type": "code",
      "execution_count": null,
      "metadata": {
        "id": "xKr1jf2hp0Hf"
      },
      "outputs": [],
      "source": [
        "# избавились от временной размерности\n",
        "x_lstm.mean(dim=1).shape"
      ]
    },
    {
      "cell_type": "markdown",
      "metadata": {
        "id": "L6paVGlRp0Hf"
      },
      "source": [
        "### Сделаем свою сеть\n",
        "В первой домашке в конце есть более подробная информация почему мы используем классы."
      ]
    },
    {
      "cell_type": "code",
      "execution_count": null,
      "metadata": {
        "id": "xMWU-Ykjp0Hf"
      },
      "outputs": [],
      "source": [
        "class DeepAverageNetwork(nn.Module):\n",
        "\n",
        "    def __init__(self, embeddings, linear_1_size, linear_2_size, n_classes):\n",
        "        super().__init__()\n",
        "\n",
        "        self.embedding_layer = nn.Embedding.from_pretrained(embeddings, padding_idx=0)\n",
        "\n",
        "        self.batch_norm = nn.BatchNorm1d(num_features=embeddings.shape[-1])\n",
        "\n",
        "        self.linear_1 = nn.Linear(in_features=embeddings.shape[-1], out_features=linear_1_size)\n",
        "        self.linear_2 = nn.Linear(in_features=linear_1_size, out_features=linear_2_size)\n",
        "        self.linear_3 = nn.Linear(in_features=linear_2_size, out_features=n_classes)\n",
        "\n",
        "    def forward(self, x):\n",
        "\n",
        "        # переводим индексы слов в эмбеддинги этих слов\n",
        "        # (batch_size, sequence_length) -> (batch_size, sequence_length, embedding_dim)\n",
        "        x = self.embedding_layer(x)\n",
        "\n",
        "        # агрегируем наши эмбеддинги по размерности время\n",
        "        # (batch_size, sequence_length, embedding_dim) -> (batch_size, embedding_dim)\n",
        "        x = x.sum(dim=1)\n",
        "\n",
        "        # делаем нормирование\n",
        "        # (batch_size, embedding_dim) -> (batch_size, embedding_dim)\n",
        "        x = self.batch_norm(x)\n",
        "\n",
        "        # прогоняем через первый линейный слой\n",
        "        # (batch_size, embedding_dim) -> (batch_size, linear_1_size)\n",
        "        x = self.linear_1(x)\n",
        "\n",
        "        # применяем нелинейность\n",
        "        # (batch_size, linear_1_size) -> (batch_size, linear_1_size)\n",
        "        x = torch.relu(x)\n",
        "\n",
        "        # прогоняем через второй линейный слой\n",
        "        # (batch_size, linear_1_size) -> (batch_size, linear_2_size)\n",
        "        x = self.linear_2(x)\n",
        "\n",
        "        # применяем нелинейность\n",
        "        # (batch_size, linear_2_size) -> (batch_size, linear_2_size)\n",
        "        x = torch.relu(x)\n",
        "\n",
        "        # переводим с помощью линейного преобразования в количество классов\n",
        "        # (batch_size, linear_2_size) -> (batch_size, n_classes)\n",
        "        x = self.linear_3(x)\n",
        "\n",
        "        ## по идеи здесь должен был быть софтмакс\n",
        "        ## но мы будем использовать лосс nn.CrossEntropyLoss()\n",
        "        ## в его документации написано\n",
        "        ## This criterion combines :func:`nn.LogSoftmax` and :func:`nn.NLLLoss` in one single class.\n",
        "        ## это некоторая оптимизация, которая включает в себя сразу и софтмакс и сам negative log likelihood лосс\n",
        "        ## так как у нас в лоссе есть софтмакс, то мы не будем применять его в сетке\n",
        "        ## на этапе предсказания (а не обучения) мы будем отдельно делать софтмакс для получения распределения классов\n",
        "        ##\n",
        "        ## (batch_size, n_classes) -> (batch_size, n_classes)\n",
        "        # x = torch.softmax(x, dim=-1)\n",
        "\n",
        "        return x"
      ]
    },
    {
      "cell_type": "code",
      "execution_count": null,
      "metadata": {
        "id": "zX-__8jBp0Hf"
      },
      "outputs": [],
      "source": [
        "model = DeepAverageNetwork(embeddings=embeddings,\n",
        "                           linear_1_size=256,\n",
        "                           linear_2_size=128,\n",
        "                           n_classes=len(category2index))"
      ]
    },
    {
      "cell_type": "code",
      "execution_count": null,
      "metadata": {
        "id": "k8cH1BsKp0Hf"
      },
      "outputs": [],
      "source": [
        "criterion = nn.CrossEntropyLoss()\n",
        "\n",
        "# задайте оптимизатор\n",
        "# optimizer = ..."
      ]
    },
    {
      "cell_type": "markdown",
      "metadata": {
        "id": "w8s5hevKp0Hf"
      },
      "source": [
        "### Напишите цикл обучения\n",
        "Что он должен в себя включать:\n",
        "1. Получение предсказаний модели\n",
        "1. Расчет функции потерь\n",
        "1. Расчет градиентов\n",
        "1. Шаг градиентного спуска\n",
        "1. Обнуление градиентов\n",
        "1. Записывание значения лосса"
      ]
    },
    {
      "cell_type": "code",
      "execution_count": null,
      "metadata": {
        "id": "dWZLu-sCp0Hf"
      },
      "outputs": [],
      "source": [
        "losses = list()\n",
        "\n",
        "# в обучении моделей у нас есть такая ситуация, что некоторые слои ведут себя по разному на этапе тренировки и предсказания\n",
        "# например, батч норм (а так же все остальные нормировки) и дропаут\n",
        "# это переводит модель в режим тренировки\n",
        "model.train()\n",
        "\n",
        "for x, y in train_loader:\n",
        "\n",
        "    ..."
      ]
    },
    {
      "cell_type": "markdown",
      "metadata": {
        "id": "NBcm4fGcp0Hg"
      },
      "source": [
        "### Напишите цикл валидации\n",
        "Что он должен в себя включать:\n",
        "1. Получение предсказаний модели\n",
        "1. Расчет функции потерь\n",
        "1. Записывание значения лосса\n",
        "\n",
        "Также с помощью контекста ```with torch.no_grad():``` можно явно указать торчу не сохранять необходимые параметры для расчета градиентов. Обязательно для режима предсказания."
      ]
    },
    {
      "cell_type": "code",
      "execution_count": null,
      "metadata": {
        "id": "pUFiuWi3p0Hg"
      },
      "outputs": [],
      "source": [
        "losses = list()\n",
        "\n",
        "# это переводит модель в режим предсказания\n",
        "# то есть фиксируются статистики батч норма, дропаут не выкидывает фичи\n",
        "model.eval()\n",
        "\n",
        "# заметьте, что мы поменяли наш лоадер на валидационный\n",
        "for x, y in valid_loader:\n",
        "\n",
        "    with torch.no_grad():\n",
        "        # получение предсказаний модели\n",
        "        # расчет лосса\n",
        "        ...\n",
        "\n",
        "    ..."
      ]
    },
    {
      "cell_type": "markdown",
      "metadata": {
        "id": "WNia-Epvp0Hg"
      },
      "source": [
        "### Проведите обучение несколько эпох\n",
        "Одна эпоха - это один проход по датасету.  \n",
        "Шаги:\n",
        "- Поменяйте что-нибудь в модели, добавить дропаут и тд\n",
        "- Остановите обучение с помощью early stopping\n",
        "- Добавьте расчет метрик во время обучения и предсказания (например, micro F1). Чтобы это сделать вы можете, например, сохранять предсказания модели\n",
        "- После обучения нарисуйте как по мере обучения меняется функция потерь на тренировочном и валидационном датасете, как меняется метрики\n",
        "- Опционально: постройте confusion matrix\n",
        "\n",
        "Подсказки:\n",
        "- Чтобы корректно сохранять предсказания нужно переменную отсоединить от графа, то есть сделать ```x.detach()```"
      ]
    },
    {
      "cell_type": "code",
      "execution_count": null,
      "metadata": {
        "id": "2pXb39Zbp0Hg"
      },
      "outputs": [],
      "source": [
        "for n_epoch in range(2):\n",
        "    ..."
      ]
    },
    {
      "cell_type": "markdown",
      "metadata": {
        "id": "vU6xf7X1p0Hg"
      },
      "source": [
        "### Важные и не очень интуитивные моменты про LSTM в торче"
      ]
    },
    {
      "cell_type": "markdown",
      "metadata": {
        "id": "0v5Qyhl7p0Hg"
      },
      "source": [
        "По умолчанию LSTM принимает данные с такой размерностью:\n",
        "```python\n",
        "(seq_len, batch, input_size)\n",
        "```\n",
        "Сделано это с целью оптимизации на более низком уровне.  \n",
        "Мы оперируем такими объектами:\n",
        "```python\n",
        "(batch, seq_len, input_size)\n",
        "```\n",
        "Чтобы LSTM у нас заработала правильно, мы можем либо передать параметр ```batch_first=True``` во время инициализации слоя,\n",
        "либо транспонировать (поменять) первую и вторую размерность у нашего x перед подачей в слой.  \n",
        "[Подробнее про LSTM](https://pytorch.org/docs/stable/nn.html#lstm)"
      ]
    },
    {
      "cell_type": "markdown",
      "metadata": {
        "id": "8qmjjPAop0Hg"
      },
      "source": [
        "- 128 - размер батча\n",
        "- 64 - длина последовательности (количество слов)\n",
        "- 1024 - эмбеддинг слова"
      ]
    },
    {
      "cell_type": "code",
      "execution_count": null,
      "metadata": {
        "id": "oXZ_hDWrp0Hg"
      },
      "outputs": [],
      "source": [
        "x = torch.rand(128, 64, 1024)"
      ]
    },
    {
      "cell_type": "code",
      "execution_count": null,
      "metadata": {
        "id": "h3vDLe4mp0Hg"
      },
      "outputs": [],
      "source": [
        "# первый способ\n",
        "lstm = torch.nn.LSTM(1024, 512, batch_first=True)\n",
        "\n",
        "pred, mem = lstm(x)"
      ]
    },
    {
      "cell_type": "code",
      "execution_count": null,
      "metadata": {
        "id": "o27w6UVmp0Hg"
      },
      "outputs": [],
      "source": [
        "pred.shape"
      ]
    },
    {
      "cell_type": "code",
      "execution_count": null,
      "metadata": {
        "id": "I5ETAZjOp0Hg"
      },
      "outputs": [],
      "source": [
        "# второй способ\n",
        "lstm = torch.nn.LSTM(1024, 512)\n",
        "\n",
        "# меняем размерность batch и seq_len местами\n",
        "x_transposed = x.transpose(0, 1)\n",
        "pred_transposed, mem = lstm(x_transposed)"
      ]
    },
    {
      "cell_type": "code",
      "execution_count": null,
      "metadata": {
        "id": "22KC2zxHp0Hg"
      },
      "outputs": [],
      "source": [
        "# у нас все еще осталась размерность (seq_len, batch, input_size)\n",
        "pred_transposed.shape"
      ]
    },
    {
      "cell_type": "code",
      "execution_count": null,
      "metadata": {
        "id": "LubgqD-Gp0Hg"
      },
      "outputs": [],
      "source": [
        "# просто транспонируем еще раз\n",
        "pred = pred_transposed.transpose(0, 1)\n",
        "pred.shape"
      ]
    },
    {
      "cell_type": "markdown",
      "metadata": {
        "id": "McAoWwrJp0Hh"
      },
      "source": [
        "### Еще важный момент про LSTM\n",
        "\n",
        "The input can also be a packed variable length sequence. See [torch.nn.utils.rnn.pack_padded_sequence()](https://pytorch.org/docs/stable/nn.html#torch.nn.utils.rnn.pack_padded_sequence) or [torch.nn.utils.rnn.pack_sequence()](https://pytorch.org/docs/stable/nn.html#torch.nn.utils.rnn.pack_sequence) for details.\n",
        "\n",
        "Это внутренняя конструкция торча, которая позволяет не читать токен ```PAD```, но все еще работать с батчами. То есть внутри батча мы можем передать лстмке, что у нас данные переменной длины. Не забудьте что на выход отдается [torch.nn.utils.rnn.PackedSequence](https://pytorch.org/docs/stable/nn.html#torch.nn.utils.rnn.PackedSequence)."
      ]
    },
    {
      "cell_type": "markdown",
      "metadata": {
        "id": "5QLLEloEp0Hh"
      },
      "source": [
        "## Домашнее задание\n",
        "\n",
        "1. Сделать класс нейронки, вписать необходимые операции, архитектура ниже\n",
        "1. Написать обучалку (обобщить то, что было выше)\n",
        "1. Добавить логирование\n",
        "    1. Сохранять лосс на каждой итерции обучения __0.25 балла__\n",
        "    1. Каждую эпоху сохранять лосс трейна и тест __0.25 балла__\n",
        "    1. Каждую эпоху рассчитывать метрики __0.25 балла__\n",
        "    1. Добавить прогресс бар, в котором показывается усредненный лосс последних 500-та итераций __0.25 балла__\n",
        "1. Добавить early stopping __0.5 балла__\n",
        "1. Нарисовать графики лосса, метрик, конфьюжин матрицу __0.5 балла__\n",
        "\n",
        "\n",
        "### Архитектура (что можно попробовать)\n",
        "1. Предобученные эмбеддинги. Почитайте [здесь](https://pytorch.org/docs/stable/nn.html#embedding) (from_pretrained) как вставить свои эмбеддинги, выше мы читали матрицу эмбеддингов. __0 баллов__\n",
        "1. Дообучить эмбеддинги вместе с сетью и с другим learning rate (указывается в оптимизаторе). __2 балла__\n",
        "1. Bidirectional LSTM. __1 балл__\n",
        "1. Написать правильный правильный mean/max пулинг, который не учитывает паддинги, точнее их маскирует. __2 балла__\n",
        "1. Добавить [torch.nn.utils.rnn.pack_padded_sequence()](https://pytorch.org/docs/stable/nn.html#torch.nn.utils.rnn.pack_padded_sequence) и [torch.nn.utils.rnn.pack_sequence()](https://pytorch.org/docs/stable/nn.html#torch.nn.utils.rnn.pack_sequence) для LSTM. Инфа [здесь](#Еще-важный-момент-про-LSTM) __2 балла__\n",
        "1. Добавить spatial дропаут для входа LSTM (не просто стандартный пункт при инициализации LSTM) __1 балл__\n",
        "1. Добавить BatchNorm/LayerNorm/Dropout/Residual/etc __2 балл__\n",
        "1. Добавить шедуллер __1 балл__\n",
        "1. Обучать на GPU __2 балла__\n",
        "1. your madness\n",
        "\n",
        "## 10 баллов максимум\n",
        "\n",
        "# По итогам напишите результаты экспериментов\n",
        "# Что получилось, а что нет\n",
        "# Почему, выводы"
      ]
    },
    {
      "cell_type": "code",
      "execution_count": 101,
      "metadata": {
        "id": "wTGpSG6F57OQ"
      },
      "outputs": [],
      "source": [
        "import torch\n",
        "import torch.nn as nn\n",
        "import torch.nn.functional as F\n",
        "from torch.nn.utils.rnn import pack_padded_sequence, pad_packed_sequence\n",
        "import torch.optim as optim\n",
        "import matplotlib.pyplot as plt\n",
        "import numpy as np\n",
        "from sklearn.metrics import confusion_matrix, classification_report\n",
        "import seaborn as sns"
      ]
    },
    {
      "cell_type": "code",
      "source": [
        "class MyNetwork(nn.Module):\n",
        "    def __init__(self, embeddings, lstm_hidden_size, linear_1_size, linear_2_size, n_classes):\n",
        "        super(MyNetwork, self).__init__()\n",
        "        self.embedding_layer = nn.Embedding.from_pretrained(embeddings, padding_idx=0, freeze=False)\n",
        "\n",
        "        # Bidirectional LSTM\n",
        "        self.lstm = nn.LSTM(input_size=embeddings.shape[1], hidden_size=lstm_hidden_size,\n",
        "                            bidirectional=True, batch_first=True)\n",
        "\n",
        "        # Spatial Dropout\n",
        "        self.spatial_dropout = nn.Dropout2d(0.3)\n",
        "\n",
        "        # BatchNorm\n",
        "        self.batch_norm = nn.BatchNorm1d(num_features=lstm_hidden_size * 4)\n",
        "\n",
        "        # линейные слои после LSTM\n",
        "        self.linear_1 = nn.Linear(lstm_hidden_size * 4, linear_1_size)\n",
        "        self.linear_2 = nn.Linear(linear_1_size, linear_2_size)\n",
        "        self.linear_3 = nn.Linear(linear_2_size, n_classes)\n",
        "\n",
        "    def forward(self, x, lengths):\n",
        "        x = self.embedding_layer(x)\n",
        "        # Spatial Dropout\n",
        "        x = self.spatial_dropout(x.unsqueeze(1)).squeeze(1)\n",
        "\n",
        "        # pack_padded_sequence и pad_packed_sequenc\n",
        "        x = pack_padded_sequence(x, lengths.cpu(), batch_first=True, enforce_sorted=False)\n",
        "        x, _ = self.lstm(x)\n",
        "        x, _ = pad_packed_sequence(x, batch_first=True)\n",
        "\n",
        "        # mean, max poolings\n",
        "        mask = (x.sum(dim=2) != 0).float()\n",
        "        x_mean = (x * mask.unsqueeze(-1)).sum(dim=1) / mask.sum(dim=1, keepdim=True)\n",
        "        x_max, _ = (x * mask.unsqueeze(-1)).max(dim=1)\n",
        "        x = torch.cat([x_mean, x_max], dim=1)\n",
        "\n",
        "        # batch norm, линейные слои\n",
        "        x = self.batch_norm(x)\n",
        "        x = F.relu(self.linear_1(x))\n",
        "        x = F.relu(self.linear_2(x))\n",
        "        x = self.linear_3(x)\n",
        "\n",
        "        return x\n"
      ],
      "metadata": {
        "id": "A9ERQ5GxkXrQ"
      },
      "execution_count": 107,
      "outputs": []
    },
    {
      "cell_type": "code",
      "execution_count": 110,
      "metadata": {
        "id": "065ZxnMQ57OQ"
      },
      "outputs": [],
      "source": [
        "model = MyNetwork(embeddings=embeddings,\n",
        "                           lstm_hidden_size=256,\n",
        "                           linear_1_size=256,\n",
        "                           linear_2_size=128,\n",
        "                           n_classes=len(category2index))"
      ]
    },
    {
      "cell_type": "code",
      "source": [
        "learning_rate = 0.001\n",
        "num_epochs = 10\n",
        "early_stopping_patience = 3  # сколько нужно эпох без улучшения для остановки\n",
        "train_losses = []\n",
        "val_losses = []\n",
        "metrics = []\n",
        "\n",
        "optimizer = optim.Adam(model.parameters(), lr=learning_rate)\n",
        "criterion = nn.CrossEntropyLoss()\n",
        "\n",
        "# обучаем на gpu, если получится\n",
        "device = torch.device('cuda' if torch.cuda.is_available() else 'cpu')\n",
        "model = model.to(device)\n",
        "\n",
        "# цикл обучения\n",
        "for epoch in range(num_epochs):\n",
        "    model.train()\n",
        "    epoch_loss = 0\n",
        "    running_loss = []\n",
        "\n",
        "    #обучение\n",
        "    for i, (x, y) in enumerate(train_loader):\n",
        "        x, y = x.to(device), y.to(device)\n",
        "        # обнуление градиентов\n",
        "        optimizer.zero_grad()\n",
        "        lengths = (x != 0).sum(dim=1)\n",
        "\n",
        "        # отфильтруем последовательности с нулевой длиной\n",
        "        if torch.any(lengths == 0):\n",
        "            mask = lengths > 0\n",
        "            x, y, lengths = x[mask], y[mask], lengths[mask]\n",
        "\n",
        "        predictions = model(x, lengths)\n",
        "        loss = criterion(predictions, y)\n",
        "        loss.backward()\n",
        "        optimizer.step()\n",
        "\n",
        "        # запишем loss\n",
        "        epoch_loss += loss.item()\n",
        "        running_loss.append(loss.item())\n",
        "\n",
        "        # логирование\n",
        "        if i % 500 == 499:  # каждые 500 итераций\n",
        "            avg_running_loss = np.mean(running_loss[-500:])\n",
        "            print(f'Iteration [{i + 1}/{len(train_loader)}], Average loss: {avg_running_loss:.4f}')\n",
        "\n",
        "    avg_loss = epoch_loss / len(train_loader)\n",
        "    train_losses.append(avg_loss)\n",
        "    print(f\"Epoch [{epoch + 1}/{num_epochs}], Loss: {avg_loss:.4f}\")\n",
        "\n",
        "    # валидацмя\n",
        "    model.eval()\n",
        "    val_loss = 0\n",
        "    all_preds = []\n",
        "    all_labels = []\n",
        "\n",
        "    with torch.no_grad():\n",
        "      for x_val, y_val in valid_loader:\n",
        "          x_val, y_val = x_val.to(device), y_val.to(device)\n",
        "          lengths = (x_val != 0).sum(dim=1)\n",
        "\n",
        "          # опять отфильтруем последовательности с нулевой длиной\n",
        "          if torch.any(lengths == 0):\n",
        "              mask = lengths > 0\n",
        "              x_val, y_val, lengths = x_val[mask], y_val[mask], lengths[mask]\n",
        "\n",
        "          if len(x_val) == 0:\n",
        "              continue  # пропускаем батч, если после фильтрации не осталось последовательностей\n",
        "\n",
        "          predictions = model(x_val, lengths)\n",
        "          loss = criterion(predictions, y_val)\n",
        "          val_loss += loss.item()\n",
        "          all_preds.extend(predictions.argmax(dim=1).cpu().numpy())\n",
        "          all_labels.extend(y_val.cpu().numpy())\n",
        "\n",
        "\n",
        "    avg_val_loss = val_loss / len(valid_loader)\n",
        "    val_losses.append(avg_val_loss)\n",
        "\n",
        "    # метрики\n",
        "    report = classification_report(all_labels, all_preds, output_dict=True)\n",
        "    metrics.append(report)\n",
        "\n",
        "    # early stopping\n",
        "    if epoch > 0 and val_losses[-1] > val_losses[-2]:\n",
        "        early_stopping_patience -= 1\n",
        "        if early_stopping_patience == 0:\n",
        "            print(\"Early stopping triggered.\")\n",
        "            break\n",
        "    else:\n",
        "        early_stopping_patience = 3  # сбрасываем счетчик\n",
        "\n",
        "# графики\n",
        "plt.figure(figsize=(12, 6))\n",
        "plt.plot(train_losses, label='Train Loss')\n",
        "plt.plot(val_losses, label='Val Loss')\n",
        "plt.xlabel('Epochs')\n",
        "plt.ylabel('Loss')\n",
        "plt.title('Loss per Epoch')\n",
        "plt.legend()\n",
        "plt.show()\n",
        "\n",
        "# конфьюжн матрица\n",
        "cm = confusion_matrix(all_labels, all_preds)\n",
        "plt.figure(figsize=(10, 8))\n",
        "sns.heatmap(cm, annot=True, fmt='d', cmap='inferno')\n",
        "plt.xlabel('Predicted')\n",
        "plt.ylabel('True')\n",
        "plt.title('Confusion Matrix')\n",
        "plt.show()\n"
      ],
      "metadata": {
        "id": "EatE1EaMed_o",
        "colab": {
          "base_uri": "https://localhost:8080/",
          "height": 1000
        },
        "outputId": "e2c736c4-9054-46a6-9420-c042480c9e01"
      },
      "execution_count": 111,
      "outputs": [
        {
          "output_type": "stream",
          "name": "stdout",
          "text": [
            "Iteration [500/1954], Average loss: 1.2835\n",
            "Iteration [1000/1954], Average loss: 1.1807\n",
            "Iteration [1500/1954], Average loss: 1.1640\n",
            "Epoch [1/10], Loss: 1.1937\n",
            "Iteration [500/1954], Average loss: 1.1008\n",
            "Iteration [1000/1954], Average loss: 1.0748\n",
            "Iteration [1500/1954], Average loss: 1.0780\n",
            "Epoch [2/10], Loss: 1.0814\n",
            "Iteration [500/1954], Average loss: 1.0478\n",
            "Iteration [1000/1954], Average loss: 1.0248\n",
            "Iteration [1500/1954], Average loss: 1.0195\n",
            "Epoch [3/10], Loss: 1.0268\n",
            "Iteration [500/1954], Average loss: 0.9897\n",
            "Iteration [1000/1954], Average loss: 0.9760\n",
            "Iteration [1500/1954], Average loss: 0.9772\n",
            "Epoch [4/10], Loss: 0.9756\n",
            "Iteration [500/1954], Average loss: 0.9471\n",
            "Iteration [1000/1954], Average loss: 0.9305\n",
            "Iteration [1500/1954], Average loss: 0.9299\n",
            "Epoch [5/10], Loss: 0.9327\n",
            "Iteration [500/1954], Average loss: 0.9030\n",
            "Iteration [1000/1954], Average loss: 0.8871\n",
            "Iteration [1500/1954], Average loss: 0.8886\n",
            "Epoch [6/10], Loss: 0.8907\n",
            "Iteration [500/1954], Average loss: 0.8644\n",
            "Iteration [1000/1954], Average loss: 0.8561\n",
            "Iteration [1500/1954], Average loss: 0.8579\n",
            "Epoch [7/10], Loss: 0.8559\n",
            "Iteration [500/1954], Average loss: 0.8310\n",
            "Iteration [1000/1954], Average loss: 0.8272\n",
            "Iteration [1500/1954], Average loss: 0.8254\n",
            "Epoch [8/10], Loss: 0.8251\n",
            "Early stopping triggered.\n"
          ]
        },
        {
          "output_type": "display_data",
          "data": {
            "text/plain": [
              "<Figure size 1200x600 with 1 Axes>"
            ],
            "image/png": "[encoded data removed]"
          },
          "metadata": {}
        },
        {
          "output_type": "display_data",
          "data": {
            "text/plain": [
              "<Figure size 1000x800 with 2 Axes>"
            ],
            "image/png": "[encoded data removed]"
          },
          "metadata": {}
        }
      ]
    },
    {
      "cell_type": "code",
      "source": [
        "#metrics"
      ],
      "metadata": {
        "id": "Uk4hC9hqrdJn"
      },
      "execution_count": 114,
      "outputs": []
    },
    {
      "cell_type": "code",
      "source": [
        "# метрики\n",
        "precision_scores = [m['weighted avg']['precision'] for m in metrics]\n",
        "recall_scores = [m['weighted avg']['recall'] for m in metrics]\n",
        "f1_scores = [m['weighted avg']['f1-score'] for m in metrics]\n",
        "\n",
        "# графики для метрик\n",
        "plt.figure(figsize=(12, 6))\n",
        "plt.plot(precision_scores, label='Precision')\n",
        "plt.plot(recall_scores, label='Recall')\n",
        "plt.plot(f1_scores, label='F1 Score')\n",
        "plt.xlabel('Epochs')\n",
        "plt.ylabel('Score')\n",
        "plt.title('Precision, Recall, and F1 Score per Epoch')\n",
        "plt.legend()\n",
        "plt.show()"
      ],
      "metadata": {
        "colab": {
          "base_uri": "https://localhost:8080/",
          "height": 545
        },
        "id": "S0BRnWQ4rTc1",
        "outputId": "29b3408f-f58f-451d-c0c8-c377897efa65"
      },
      "execution_count": 112,
      "outputs": [
        {
          "output_type": "display_data",
          "data": {
            "text/plain": [
              "<Figure size 1200x600 with 1 Axes>"
            ],
            "image/png": "[encoded data removed]"
          },
          "metadata": {}
        }
      ]
    },
    {
      "cell_type": "code",
      "source": [],
      "metadata": {
        "id": "vDP8P4fqsWL1"
      },
      "execution_count": null,
      "outputs": []
    },
    {
      "cell_type": "code",
      "source": [],
      "metadata": {
        "id": "gEyTVOvzsg5Q"
      },
      "execution_count": null,
      "outputs": []
    },
    {
      "cell_type": "markdown",
      "source": [
        "теперь попробуем добавить шедуллер (ReduceLROnPlateau): пусть он в конце каждой эпохи будет передавать средний val_loss для контроля изменения learning rate"
      ],
      "metadata": {
        "id": "8vO1_C6PshHa"
      }
    },
    {
      "cell_type": "code",
      "source": [
        "learning_rate = 0.001\n",
        "num_epochs = 10\n",
        "early_stopping_patience = 3  # сколько нужно эпох без улучшения для остановки\n",
        "train_losses = []\n",
        "val_losses = []\n",
        "metrics = []\n",
        "\n",
        "optimizer = optim.Adam(model.parameters(), lr=learning_rate)\n",
        "scheduler = optim.lr_scheduler.ReduceLROnPlateau(optimizer, mode='min', factor=0.5, patience=2, verbose=True)\n",
        "criterion = nn.CrossEntropyLoss()\n",
        "\n",
        "\n",
        "# обучаем на gpu, если получится\n",
        "device = torch.device('cuda' if torch.cuda.is_available() else 'cpu')\n",
        "model = model.to(device)\n",
        "\n",
        "# цикл обучения\n",
        "for epoch in range(num_epochs):\n",
        "    model.train()\n",
        "    epoch_loss = 0\n",
        "    running_loss = []\n",
        "\n",
        "    #обучение\n",
        "    for i, (x, y) in enumerate(train_loader):\n",
        "        x, y = x.to(device), y.to(device)\n",
        "        # обнуление градиентов\n",
        "        optimizer.zero_grad()\n",
        "        lengths = (x != 0).sum(dim=1)\n",
        "\n",
        "        # отфильтруем последовательности с нулевой длиной\n",
        "        if torch.any(lengths == 0):\n",
        "            mask = lengths > 0\n",
        "            x, y, lengths = x[mask], y[mask], lengths[mask]\n",
        "\n",
        "        predictions = model(x, lengths)\n",
        "        loss = criterion(predictions, y)\n",
        "        loss.backward()\n",
        "        optimizer.step()\n",
        "\n",
        "        # запишем loss\n",
        "        epoch_loss += loss.item()\n",
        "        running_loss.append(loss.item())\n",
        "\n",
        "        # логирование\n",
        "        if i % 500 == 499:  # каждые 500 итераций\n",
        "            avg_running_loss = np.mean(running_loss[-500:])\n",
        "            print(f'Iteration [{i + 1}/{len(train_loader)}], Average loss: {avg_running_loss:.4f}')\n",
        "\n",
        "    avg_loss = epoch_loss / len(train_loader)\n",
        "    train_losses.append(avg_loss)\n",
        "    print(f\"Epoch [{epoch + 1}/{num_epochs}], Loss: {avg_loss:.4f}\")\n",
        "\n",
        "    # валидацмя\n",
        "    model.eval()\n",
        "    val_loss = 0\n",
        "    all_preds = []\n",
        "    all_labels = []\n",
        "\n",
        "    with torch.no_grad():\n",
        "      for x_val, y_val in valid_loader:\n",
        "          x_val, y_val = x_val.to(device), y_val.to(device)\n",
        "          lengths = (x_val != 0).sum(dim=1)\n",
        "\n",
        "          # опять отфильтруем последовательности с нулевой длиной\n",
        "          if torch.any(lengths == 0):\n",
        "              mask = lengths > 0\n",
        "              x_val, y_val, lengths = x_val[mask], y_val[mask], lengths[mask]\n",
        "\n",
        "          if len(x_val) == 0:\n",
        "              continue  # пропускаем батч, если после фильтрации не осталось последовательностей\n",
        "\n",
        "          predictions = model(x_val, lengths)\n",
        "          loss = criterion(predictions, y_val)\n",
        "          val_loss += loss.item()\n",
        "          all_preds.extend(predictions.argmax(dim=1).cpu().numpy())\n",
        "          all_labels.extend(y_val.cpu().numpy())\n",
        "\n",
        "\n",
        "    avg_val_loss = val_loss / len(valid_loader)\n",
        "    val_losses.append(avg_val_loss)\n",
        "\n",
        "    # метрики\n",
        "    report = classification_report(all_labels, all_preds, output_dict=True)\n",
        "    metrics.append(report)\n",
        "\n",
        "    scheduler.step(avg_val_loss)\n",
        "\n",
        "    # early stopping\n",
        "    if epoch > 0 and val_losses[-1] > val_losses[-2]:\n",
        "        early_stopping_patience -= 1\n",
        "        if early_stopping_patience == 0:\n",
        "            print(\"Early stopping triggered.\")\n",
        "            break\n",
        "    else:\n",
        "        early_stopping_patience = 3  # сбрасываем счетчик\n",
        "\n",
        "# графики\n",
        "plt.figure(figsize=(12, 6))\n",
        "plt.plot(train_losses, label='Train Loss')\n",
        "plt.plot(val_losses, label='Val Loss')\n",
        "plt.xlabel('Epochs')\n",
        "plt.ylabel('Loss')\n",
        "plt.title('Loss per Epoch')\n",
        "plt.legend()\n",
        "plt.show()\n",
        "\n",
        "# конфьюжн матрица\n",
        "cm = confusion_matrix(all_labels, all_preds)\n",
        "plt.figure(figsize=(10, 8))\n",
        "sns.heatmap(cm, annot=True, fmt='d', cmap='inferno')\n",
        "plt.xlabel('Predicted')\n",
        "plt.ylabel('True')\n",
        "plt.title('Confusion Matrix')\n",
        "plt.show()\n",
        "\n",
        "# метрики\n",
        "precision_scores = [m['weighted avg']['precision'] for m in metrics]\n",
        "recall_scores = [m['weighted avg']['recall'] for m in metrics]\n",
        "f1_scores = [m['weighted avg']['f1-score'] for m in metrics]\n",
        "\n",
        "# графики для метрик\n",
        "plt.figure(figsize=(12, 6))\n",
        "plt.plot(precision_scores, label='Precision')\n",
        "plt.plot(recall_scores, label='Recall')\n",
        "plt.plot(f1_scores, label='F1 Score')\n",
        "plt.xlabel('Epochs')\n",
        "plt.ylabel('Score')\n",
        "plt.title('Precision, Recall, and F1 Score per Epoch')\n",
        "plt.legend()\n",
        "plt.show()"
      ],
      "metadata": {
        "colab": {
          "base_uri": "https://localhost:8080/",
          "height": 1000
        },
        "id": "2WhCFjD8sWSf",
        "outputId": "c96ed323-3eea-426b-eefa-7c82e9d2e459"
      },
      "execution_count": 116,
      "outputs": [
        {
          "output_type": "stream",
          "name": "stdout",
          "text": [
            "Iteration [500/1954], Average loss: 0.7874\n",
            "Iteration [1000/1954], Average loss: 0.8074\n",
            "Iteration [1500/1954], Average loss: 0.8111\n",
            "Epoch [1/10], Loss: 0.8000\n",
            "Iteration [500/1954], Average loss: 0.7769\n",
            "Iteration [1000/1954], Average loss: 0.7835\n",
            "Iteration [1500/1954], Average loss: 0.7795\n",
            "Epoch [2/10], Loss: 0.7794\n",
            "Iteration [500/1954], Average loss: 0.7608\n",
            "Iteration [1000/1954], Average loss: 0.7700\n",
            "Iteration [1500/1954], Average loss: 0.7645\n",
            "Epoch [3/10], Loss: 0.7624\n",
            "Iteration [500/1954], Average loss: 0.7498\n",
            "Iteration [1000/1954], Average loss: 0.7469\n",
            "Iteration [1500/1954], Average loss: 0.7488\n",
            "Epoch [4/10], Loss: 0.7459\n",
            "Early stopping triggered.\n"
          ]
        },
        {
          "output_type": "display_data",
          "data": {
            "text/plain": [
              "<Figure size 1200x600 with 1 Axes>"
            ],
            "image/png": "[encoded data removed]"
          },
          "metadata": {}
        },
        {
          "output_type": "display_data",
          "data": {
            "text/plain": [
              "<Figure size 1000x800 with 2 Axes>"
            ],
            "image/png": "[encoded data removed]"
          },
          "metadata": {}
        },
        {
          "output_type": "display_data",
          "data": {
            "text/plain": [
              "<Figure size 1200x600 with 1 Axes>"
            ],
            "image/png": "[encoded data removed]"
          },
          "metadata": {}
        }
      ]
    },
    {
      "cell_type": "markdown",
      "source": [
        "кажется, случилось переобучение... (train loss падает, val loss растет, метрики тоже ухудшаются с каждой эпохой)"
      ],
      "metadata": {
        "id": "cVLGqDNruYyu"
      }
    },
    {
      "cell_type": "code",
      "source": [],
      "metadata": {
        "id": "FVK-8ZBpsWVN"
      },
      "execution_count": null,
      "outputs": []
    },
    {
      "cell_type": "code",
      "source": [],
      "metadata": {
        "id": "k-jMkpZCsWXk"
      },
      "execution_count": null,
      "outputs": []
    }
  ],
  "metadata": {
    "colab": {
      "provenance": [],
      "gpuType": "T4"
    },
    "kernelspec": {
      "display_name": "Python 3",
      "name": "python3"
    },
    "language_info": {
      "codemirror_mode": {
        "name": "ipython",
        "version": 3
      },
      "file_extension": ".py",
      "mimetype": "text/x-python",
      "name": "python",
      "nbconvert_exporter": "python",
      "pygments_lexer": "ipython3",
      "version": "3.11.7"
    },
    "accelerator": "GPU"
  },
  "nbformat": 4,
  "nbformat_minor": 0
}
